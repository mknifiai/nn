{
 "cells": [
  {
   "cell_type": "markdown",
   "id": "bc7a956d-88f5-494d-bab1-33d27567afac",
   "metadata": {},
   "source": [
    "### Your name: type your name here"
   ]
  },
  {
   "cell_type": "markdown",
   "id": "c3534a99-dc27-46d9-b380-ec022d22018b",
   "metadata": {},
   "source": [
    "## MLP vs RBF Networks (15 points)\n",
    "\n",
    "1- Read digits data from sklearn.datasets\n",
    "\n",
    "2- Split the data into training and test sets\n",
    "\n",
    "3- Train a MLP classification model on the training set.\n",
    "\n",
    "4- Train a RBF classification model on the training set.\n",
    "\n",
    "5- Apply both models to the test set. Report their accuracy on the test set.\n"
   ]
  },
  {
   "cell_type": "code",
   "execution_count": 9,
   "id": "13e8df69-8be1-42f7-942d-e5ea12110810",
   "metadata": {},
   "outputs": [],
   "source": [
    "import torch\n",
    "from torch import nn\n",
    "import sklearn as skl\n",
    "import pandas as pd\n",
    "import numpy as np\n",
    "import matplotlib.pyplot as plt"
   ]
  },
  {
   "cell_type": "markdown",
   "id": "0641a5fb-346f-481c-802e-4d6263a468b9",
   "metadata": {},
   "source": [
    "__Read Data__"
   ]
  },
  {
   "cell_type": "code",
   "execution_count": 16,
   "id": "fa3e9116-cf0b-4f11-9b32-245e50b1dcfb",
   "metadata": {},
   "outputs": [],
   "source": [
    "from sklearn.datasets import load_digits\n",
    "\n",
    "X = load_digits().data\n",
    "Y = load_digits().target"
   ]
  },
  {
   "cell_type": "code",
   "execution_count": 17,
   "id": "0e634444-8c62-4315-9584-bbb59b339acb",
   "metadata": {},
   "outputs": [
    {
     "name": "stdout",
     "output_type": "stream",
     "text": [
      "(1797, 64)\n",
      "(1797,)\n"
     ]
    }
   ],
   "source": [
    "print(X.shape)\n",
    "print(Y.shape)"
   ]
  },
  {
   "cell_type": "markdown",
   "id": "bbc0bc82-1d60-4a71-9c6e-209327c6a53c",
   "metadata": {},
   "source": [
    "__Normalize the data__"
   ]
  },
  {
   "cell_type": "code",
   "execution_count": 18,
   "id": "162d7028-04ce-43da-b2a1-99a63bcbd15c",
   "metadata": {},
   "outputs": [],
   "source": [
    "X = X / X.max()"
   ]
  },
  {
   "cell_type": "code",
   "execution_count": null,
   "id": "aa0c800e-e16a-43c6-809e-99885da380f9",
   "metadata": {},
   "outputs": [],
   "source": []
  }
 ],
 "metadata": {
  "kernelspec": {
   "display_name": "Python 3 (ipykernel)",
   "language": "python",
   "name": "python3"
  },
  "language_info": {
   "codemirror_mode": {
    "name": "ipython",
    "version": 3
   },
   "file_extension": ".py",
   "mimetype": "text/x-python",
   "name": "python",
   "nbconvert_exporter": "python",
   "pygments_lexer": "ipython3",
   "version": "3.12.1"
  }
 },
 "nbformat": 4,
 "nbformat_minor": 5
}
