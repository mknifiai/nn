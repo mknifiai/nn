{
 "cells": [
  {
   "cell_type": "markdown",
   "id": "49a7bee6-9f1f-4435-98c8-7a914c6ccf0b",
   "metadata": {},
   "source": [
    "## Training Neural Networks"
   ]
  },
  {
   "cell_type": "markdown",
   "id": "e6a7e947-20c3-4c7a-8e01-0921a0c8c8b4",
   "metadata": {},
   "source": [
    "<img src=\"fig/nn.png\" width=500 height=500 />"
   ]
  },
  {
   "cell_type": "markdown",
   "id": "edae79c3-5a2b-4556-8305-e5bcec4eb0f2",
   "metadata": {},
   "source": [
    "### Learning rate\n",
    "\n",
    "Neural networks use gradient descent to update weights during backpropagation. Gradient descent is an optimization algorithm that adjusts weights based on the loss function's derivative. Weights are updated using the formula"
   ]
  },
  {
   "cell_type": "markdown",
   "id": "8ed6e927-28a1-4cfc-b130-932f389a5f99",
   "metadata": {},
   "source": [
    "<img src=\"fig/lr.png\" width=150 height=150 />"
   ]
  },
  {
   "cell_type": "markdown",
   "id": "71bd818f-13f6-47a1-b0b9-e3ecc1f2fca8",
   "metadata": {},
   "source": [
    "### Gradient descent\n",
    "\n",
    "Gradient descent is an optimization algorithm that optimizes a function by updating weights based on the function's derivative, also called the gradient. In machine learning, gradient descent is used to find the optimal weights for a model to minimize a loss function.\n",
    "\n",
    "Neural networks use gradient descent to update weights during backpropagation"
   ]
  },
  {
   "cell_type": "markdown",
   "id": "efd391bc-6315-4801-8929-26a1ef6193d1",
   "metadata": {},
   "source": [
    "<img src=\"fig/lfun.png\" width=300 height=300 />"
   ]
  },
  {
   "cell_type": "markdown",
   "id": "054eb4fe-223b-4128-8fb3-cc014675ce1c",
   "metadata": {},
   "source": [
    "### Loss functions and their derivative"
   ]
  },
  {
   "cell_type": "markdown",
   "id": "93a82bde-5cdb-4a5b-be35-baac363e59a8",
   "metadata": {},
   "source": [
    "<img src=\"fig/lossfun.png\" width=500 height=500 />"
   ]
  },
  {
   "cell_type": "markdown",
   "id": "b8267e2f-e562-44c9-a768-6b769f9ddfd8",
   "metadata": {},
   "source": [
    "### Stochastic and mini-batch gradient descent"
   ]
  },
  {
   "cell_type": "markdown",
   "id": "97337ab1-1797-43cd-9161-a3c18cc87df7",
   "metadata": {},
   "source": [
    "Calculating gradients can be computationally intensive, especially for models with many input features and weights, such as neural networks. Stochastic gradient descent and mini-batch gradient descent are two options for reducing the computational load.\n",
    "\n",
    "- __Stochastic gradient descent__ calculates the gradient and updates weights on one instance at a time.\n",
    "- __Mini-batch gradient descent__ calculates the gradient and updates weights after each batch."
   ]
  },
  {
   "cell_type": "markdown",
   "id": "06846c20-ea33-43cb-a57d-cf557d53102d",
   "metadata": {},
   "source": [
    "### Neural Netowrk in Pytorch"
   ]
  },
  {
   "cell_type": "code",
   "execution_count": 1,
   "id": "c8204ec5-fe6c-47cc-a3ec-427aaa6d55b7",
   "metadata": {},
   "outputs": [],
   "source": [
    "import numpy as np\n",
    "import matplotlib.pyplot as plt"
   ]
  },
  {
   "cell_type": "code",
   "execution_count": 2,
   "id": "d80fded0-0dc2-49a4-8628-c0ff4a8271d8",
   "metadata": {},
   "outputs": [],
   "source": [
    "from sklearn.datasets import load_digits\n",
    "digits = load_digits()\n",
    "\n",
    "X = digits.data\n",
    "Y = digits.target"
   ]
  },
  {
   "cell_type": "code",
   "execution_count": 3,
   "id": "aee74adc-dfb4-422b-95e5-20daa78a683e",
   "metadata": {},
   "outputs": [
    {
     "name": "stdout",
     "output_type": "stream",
     "text": [
      "(1797, 64)\n",
      "(1797,)\n"
     ]
    }
   ],
   "source": [
    "print(X.shape)\n",
    "print(Y.shape)"
   ]
  },
  {
   "cell_type": "code",
   "execution_count": 4,
   "id": "2480cf0e-e06f-4171-9b35-6aa4e78c7f83",
   "metadata": {},
   "outputs": [
    {
     "data": {
      "text/plain": [
       "array([ 0.,  0.,  5., 13.,  9.,  1.,  0.,  0.,  0.,  0., 13., 15., 10.,\n",
       "       15.,  5.,  0.,  0.,  3., 15.,  2.,  0., 11.,  8.,  0.,  0.,  4.,\n",
       "       12.,  0.,  0.,  8.,  8.,  0.,  0.,  5.,  8.,  0.,  0.,  9.,  8.,\n",
       "        0.,  0.,  4., 11.,  0.,  1., 12.,  7.,  0.,  0.,  2., 14.,  5.,\n",
       "       10., 12.,  0.,  0.,  0.,  0.,  6., 13., 10.,  0.,  0.,  0.])"
      ]
     },
     "execution_count": 4,
     "metadata": {},
     "output_type": "execute_result"
    }
   ],
   "source": [
    "X[0,:]"
   ]
  },
  {
   "cell_type": "code",
   "execution_count": 5,
   "id": "f826cc6c-0345-4403-b0ba-761205fef582",
   "metadata": {},
   "outputs": [],
   "source": [
    "X = X / X.max()"
   ]
  },
  {
   "cell_type": "code",
   "execution_count": 6,
   "id": "c0a818b0-ef00-4460-86d3-af29da279ff7",
   "metadata": {},
   "outputs": [
    {
     "data": {
      "text/plain": [
       "array([0.    , 0.    , 0.3125, 0.8125, 0.5625, 0.0625, 0.    , 0.    ,\n",
       "       0.    , 0.    , 0.8125, 0.9375, 0.625 , 0.9375, 0.3125, 0.    ,\n",
       "       0.    , 0.1875, 0.9375, 0.125 , 0.    , 0.6875, 0.5   , 0.    ,\n",
       "       0.    , 0.25  , 0.75  , 0.    , 0.    , 0.5   , 0.5   , 0.    ,\n",
       "       0.    , 0.3125, 0.5   , 0.    , 0.    , 0.5625, 0.5   , 0.    ,\n",
       "       0.    , 0.25  , 0.6875, 0.    , 0.0625, 0.75  , 0.4375, 0.    ,\n",
       "       0.    , 0.125 , 0.875 , 0.3125, 0.625 , 0.75  , 0.    , 0.    ,\n",
       "       0.    , 0.    , 0.375 , 0.8125, 0.625 , 0.    , 0.    , 0.    ])"
      ]
     },
     "execution_count": 6,
     "metadata": {},
     "output_type": "execute_result"
    }
   ],
   "source": [
    "X[0,:]"
   ]
  },
  {
   "cell_type": "code",
   "execution_count": 7,
   "id": "b62e5551-6a5c-4220-9b49-2616a7dc9f9d",
   "metadata": {},
   "outputs": [
    {
     "name": "stdout",
     "output_type": "stream",
     "text": [
      "[0 1 2 3 4 5 6 7 8 9]\n"
     ]
    }
   ],
   "source": [
    "print(np.unique(Y))"
   ]
  },
  {
   "cell_type": "code",
   "execution_count": 8,
   "id": "011ac62f-00e3-42ee-940e-7ecdf60165b1",
   "metadata": {},
   "outputs": [],
   "source": [
    "from sklearn.model_selection import train_test_split\n",
    "\n",
    "X_train, X_test, y_train, y_test = train_test_split(X, Y, test_size=0.2, shuffle=True)\n",
    "\n",
    "X_train, X_val, y_train, y_val = train_test_split(X_train, y_train, test_size=0.2, shuffle=True)"
   ]
  },
  {
   "cell_type": "code",
   "execution_count": 9,
   "id": "119a25e2-04e6-4b22-ab9e-5ea9c08ffc1b",
   "metadata": {},
   "outputs": [],
   "source": [
    "import torch\n",
    "from torch import nn\n",
    "import torch.nn.functional as F\n",
    "\n",
    "class MyClassifier(nn.Module):\n",
    "    def __init__(self, input_dim, hidden_layer_size, n_classes):\n",
    "        super(MyClassifier, self).__init__()\n",
    "        self.fc1 = nn.Linear(input_dim, hidden_layer_size[0])\n",
    "        self.fc2 = nn.Linear(hidden_layer_size[0], hidden_layer_size[1])\n",
    "        self.output = nn.Linear(hidden_layer_size[1], n_classes)\n",
    "    \n",
    "    def forward(self, x):\n",
    "        x = F.relu(self.fc1(x))\n",
    "        x = F.relu(self.fc2(x))\n",
    "        x = self.output(x)\n",
    "        return x"
   ]
  },
  {
   "cell_type": "code",
   "execution_count": 10,
   "id": "8b65f6b8-33fd-4e04-a931-c2d4edbb0926",
   "metadata": {},
   "outputs": [],
   "source": [
    "import torch.utils.data as Data\n",
    "\n",
    "class MyData(Data.Dataset):\n",
    "    def __init__(self, X, y):\n",
    "        self.X = torch.tensor(X, dtype=torch.float32)\n",
    "        self.y = torch.tensor(y, dtype=torch.long)\n",
    "    \n",
    "    def __getitem__(self, i):\n",
    "        return self.X[i], self.y[i]\n",
    "\n",
    "    def __len__(self):\n",
    "        return len(self.y)"
   ]
  },
  {
   "cell_type": "code",
   "execution_count": 11,
   "id": "da048b97-42f6-4ff6-9612-75dd9cc38de7",
   "metadata": {},
   "outputs": [],
   "source": [
    "Xtrain = MyData(X_train, y_train)\n",
    "Xtest = MyData(X_test, y_test)\n",
    "Xval = MyData(X_val, y_val)"
   ]
  },
  {
   "cell_type": "code",
   "execution_count": 12,
   "id": "8aae142c-465f-4fa7-a455-d92d0818d5ac",
   "metadata": {},
   "outputs": [],
   "source": [
    "batch_size = 16\n",
    "train_loader = Data.DataLoader(Xtrain, batch_size=batch_size, shuffle=True, num_workers= 0)\n",
    "test_loader = Data.DataLoader(Xtest, batch_size=batch_size, shuffle=True, num_workers= 0)\n",
    "val_loader = Data.DataLoader(Xval, batch_size=batch_size, shuffle=True, num_workers= 0)"
   ]
  },
  {
   "cell_type": "code",
   "execution_count": 37,
   "id": "c102c61b-2a16-4ebe-a9e3-ee24a0369dfc",
   "metadata": {},
   "outputs": [],
   "source": [
    "model = MyClassifier(X_train.shape[1], [100,50], len(np.unique(y_train)))\n",
    "criterion = nn.CrossEntropyLoss()\n",
    "optimizer = torch.optim.Adam(model.parameters(), lr=1e-4)"
   ]
  },
  {
   "cell_type": "code",
   "execution_count": 38,
   "id": "bb1ba007-026c-4b14-90dd-873fb9f02158",
   "metadata": {},
   "outputs": [],
   "source": [
    "num_epochs = 200\n",
    "train_losses = []\n",
    "val_losses = []\n",
    "\n",
    "for epoch in range(num_epochs):\n",
    "    model.train()\n",
    "    running_loss = 0.0\n",
    "    for x, y in train_loader:\n",
    "        optimizer.zero_grad()\n",
    "        outputs = model(x)\n",
    "        loss = criterion(outputs, y)\n",
    "        loss.backward()\n",
    "        optimizer.step()\n",
    "        running_loss += loss.item()\n",
    "\n",
    "    train_losses.append(running_loss / len(train_loader))\n",
    "\n",
    "    model.eval()\n",
    "    val_loss = 0.0\n",
    "    with torch.no_grad():\n",
    "        for x, y in val_loader:\n",
    "            outputs = model(x)\n",
    "            loss = criterion(outputs, y)\n",
    "            val_loss += loss.item()\n",
    "\n",
    "    val_losses.append(val_loss / len(val_loader))\n",
    "\n",
    "    #print(f\"Epoch {epoch + 1}/{num_epochs}, Train Loss: {train_losses[-1]:.4f}, Val Loss: {val_losses[-1]:.4f}\")"
   ]
  },
  {
   "cell_type": "code",
   "execution_count": 39,
   "id": "2ac71811-63b0-4825-a9dd-d3c5ec4dac63",
   "metadata": {},
   "outputs": [
    {
     "data": {
      "image/png": "[encoded data removed]",
      "text/plain": [
       "<Figure size 1000x500 with 1 Axes>"
      ]
     },
     "metadata": {},
     "output_type": "display_data"
    }
   ],
   "source": [
    "plt.figure(figsize=(10, 5))\n",
    "plt.plot(train_losses, label=\"Training Loss\")\n",
    "plt.plot(val_losses, label=\"Validation Loss\")\n",
    "plt.xlabel(\"Epoch\")\n",
    "plt.ylabel(\"Loss\")\n",
    "plt.title(\"Training and Validation Loss\")\n",
    "plt.legend()\n",
    "plt.show()"
   ]
  },
  {
   "cell_type": "code",
   "execution_count": 40,
   "id": "ea73c9b0-efd0-40b7-ae62-4f0f5ae01e3f",
   "metadata": {},
   "outputs": [],
   "source": [
    "model.eval()\n",
    "preds_ = []\n",
    "labels = []\n",
    "\n",
    "with torch.no_grad():\n",
    "    for X_batch, y_batch in test_loader:\n",
    "        outputs = model(X_batch)\n",
    "        _, preds = torch.max(outputs, 1)\n",
    "        preds_.extend(preds.numpy())\n",
    "        labels.extend(y_batch.numpy())"
   ]
  },
  {
   "cell_type": "code",
   "execution_count": 41,
   "id": "63809daf-cce6-4b60-9f68-3afbc33b8a56",
   "metadata": {},
   "outputs": [
    {
     "name": "stdout",
     "output_type": "stream",
     "text": [
      "Confusion Matrix:\n",
      " [[30  0  0  0  0  0  0  0  0  0]\n",
      " [ 0 36  0  0  0  0  0  0  0  1]\n",
      " [ 0  0 37  0  0  0  0  0  0  0]\n",
      " [ 0  0  1 42  0  1  0  0  0  0]\n",
      " [ 0  1  0  0 34  0  0  0  0  1]\n",
      " [ 0  0  0  1  0 36  0  0  0  1]\n",
      " [ 0  0  0  0  0  0 26  0  0  0]\n",
      " [ 0  0  0  0  2  0  0 40  0  1]\n",
      " [ 0  3  0  0  0  0  0  0 31  0]\n",
      " [ 0  0  0  0  0  1  0  0  1 33]]\n",
      "Classification Report:\n",
      "               precision    recall  f1-score   support\n",
      "\n",
      "           0       1.00      1.00      1.00        30\n",
      "           1       0.90      0.97      0.94        37\n",
      "           2       0.97      1.00      0.99        37\n",
      "           3       0.98      0.95      0.97        44\n",
      "           4       0.94      0.94      0.94        36\n",
      "           5       0.95      0.95      0.95        38\n",
      "           6       1.00      1.00      1.00        26\n",
      "           7       1.00      0.93      0.96        43\n",
      "           8       0.97      0.91      0.94        34\n",
      "           9       0.89      0.94      0.92        35\n",
      "\n",
      "    accuracy                           0.96       360\n",
      "   macro avg       0.96      0.96      0.96       360\n",
      "weighted avg       0.96      0.96      0.96       360\n",
      "\n"
     ]
    }
   ],
   "source": [
    "from sklearn.metrics import confusion_matrix, classification_report, accuracy_score\n",
    "\n",
    "cm = confusion_matrix(labels, preds_)\n",
    "print(\"Confusion Matrix:\\n\", cm)\n",
    "print(\"Classification Report:\\n\", classification_report(labels, preds_))"
   ]
  },
  {
   "cell_type": "code",
   "execution_count": 42,
   "id": "1caf6991-9473-4b8b-b0b0-41cfee194656",
   "metadata": {},
   "outputs": [
    {
     "name": "stdout",
     "output_type": "stream",
     "text": [
      "accuracy_score = 0.9583333333333334\n"
     ]
    }
   ],
   "source": [
    "print(f'accuracy_score = {accuracy_score(labels, preds_)}')"
   ]
  },
  {
   "cell_type": "code",
   "execution_count": null,
   "id": "aebf80b8-a2f0-44ed-94cc-93b1e458630d",
   "metadata": {},
   "outputs": [],
   "source": []
  }
 ],
 "metadata": {
  "kernelspec": {
   "display_name": "Python 3 (ipykernel)",
   "language": "python",
   "name": "python3"
  },
  "language_info": {
   "codemirror_mode": {
    "name": "ipython",
    "version": 3
   },
   "file_extension": ".py",
   "mimetype": "text/x-python",
   "name": "python",
   "nbconvert_exporter": "python",
   "pygments_lexer": "ipython3",
   "version": "3.12.1"
  }
 },
 "nbformat": 4,
 "nbformat_minor": 5
}
