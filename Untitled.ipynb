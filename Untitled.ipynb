{
 "cells": [
  {
   "cell_type": "code",
   "execution_count": null,
   "id": "d9be1b8b-4ca9-4c93-8e45-0ec38d65e035",
   "metadata": {},
   "outputs": [],
   "source": []
  },
  {
   "cell_type": "code",
   "execution_count": null,
   "id": "78b4da40-4f8c-4cff-8b46-168ce029babc",
   "metadata": {},
   "outputs": [],
   "source": []
  },
  {
   "cell_type": "code",
   "execution_count": null,
   "id": "a3a28fb4-bf0b-4053-9643-76bda31009be",
   "metadata": {},
   "outputs": [],
   "source": []
  },
  {
   "cell_type": "code",
   "execution_count": null,
   "id": "f9d7a7d1-61be-4d7e-8d66-ac751c13c14c",
   "metadata": {},
   "outputs": [],
   "source": []
  },
  {
   "cell_type": "code",
   "execution_count": null,
   "id": "67589758-13ea-4439-92f8-a48e65abea46",
   "metadata": {},
   "outputs": [],
   "source": []
  },
  {
   "cell_type": "code",
   "execution_count": null,
   "id": "ccfcbc15-9534-4191-bbd5-8c10abc84950",
   "metadata": {},
   "outputs": [],
   "source": []
  },
  {
   "cell_type": "code",
   "execution_count": null,
   "id": "af908357-3d37-449f-a54f-75e35e236a23",
   "metadata": {},
   "outputs": [],
   "source": []
  },
  {
   "cell_type": "code",
   "execution_count": 9,
   "id": "c93e744d-492b-4edd-9884-90625f074866",
   "metadata": {},
   "outputs": [],
   "source": [
    "import numpy as np\n",
    "import pandas as pd\n",
    "import random as rand\n",
    "import matplotlib.pyplot as plt \n",
    "import scipy.optimize as op\n",
    "#from optimizer import *\n",
    "\n",
    "def standardize_parameters(X, Y):\n",
    "    Xmeans = X.mean(axis=0)\n",
    "    Xstds = X.std(axis=0)\n",
    "    Ymeans = Y.mean(axis=0)\n",
    "    Ystds = Y.std(axis=0)\n",
    "    return {'Xmeans': Xmeans, 'Xstds': Xstds,\\\n",
    "            'Ymeans': Ymeans, 'Ystds': Ystds}\n",
    "\n",
    "def standardize_X(X, stand_parms):\n",
    "    return (X - stand_parms['Xmeans']) / stand_parms['Xstds']\n",
    "\n",
    "\n",
    "def unstandardize_X(Xst, stand_parms):\n",
    "    return Xst * stand_parms['Xstds'] + stand_parms['Xmeans']\n",
    "\n",
    "\n",
    "def standardize_Y(Y, stand_parms):\n",
    "    return (Y - stand_parms['Ymeans']) / stand_parms['Ystds']\n",
    "\n",
    "\n",
    "def unstandardize_Y(Yst, stand_parms):\n",
    "    return Yst * stand_parms['Ystds'] + stand_parms['Ymeans']\n",
    "\n",
    "\n",
    "def add_ones(X):\n",
    "    return np.insert(X, 0, 1, axis=1)"
   ]
  },
  {
   "cell_type": "code",
   "execution_count": 10,
   "id": "8f2582ec-bb22-49ba-9d6d-8212be892d79",
   "metadata": {},
   "outputs": [],
   "source": [
    "def make_weights(n_inputs, n_hiddens, n_outputs):\n",
    "    # Matrix V for the hidden layer.\n",
    "    V = np.random.uniform(-1, 1, size=(1 + n_inputs, n_hiddens)) / np.sqrt(n_inputs + 1)\n",
    "    # Matrix W for the output layer.\n",
    "    W = np.random.uniform(-1, 1, size=(1 + n_hiddens, n_outputs)) / np.sqrt(n_hiddens + 1)\n",
    "    #V = (np.random.rand(n_inputs+1,n_hiddens)-0.5)*2/np.sqrt(n_inputs)\n",
    "    #W = (np.random.rand(n_hiddens+1,n_outputs)-0.5)*2/np.sqrt(n_hiddens)\n",
    "    return V, W\n",
    "\n",
    "def forward(Xst, V, W):\n",
    "    # Calculate the outputs of the hidden units\n",
    "    Z = np.tanh(add_ones(Xst) @ V)\n",
    "    # Calculate the outputs of output units\n",
    "    pYst = add_ones(Z) @ W\n",
    "    return Z, pYst\n",
    "\n",
    "def backward(Xst, Yst, V, W):\n",
    "    n_samples = Xst.shape[0]\n",
    "    n_outputs = Yst.shape[1]\n",
    "    # Calculate the outputs of hidden and output layers.\n",
    "    Z, pYst = forward(Xst, V, W)\n",
    "    # Calculate the delta value for the output layer.\n",
    "    delta = -(Yst - pYst) /  (n_samples * n_outputs)\n",
    "    # The gradient of the mean squared error with respect to the output layer weights W.\n",
    "    gradient_W = add_ones(Z).T @ delta\n",
    "    # Back-propagate the delta value\n",
    "    delta = (delta @ W[1:, :].T) * (1 - Z ** 2)\n",
    "    # The gradient of the mean squared error with respect to the hidden layer weights, V.\n",
    "    gradient_V = add_ones(Xst).T @ delta\n",
    "    \n",
    "    return gradient_V, gradient_W\n",
    "\n",
    "def use(X, V, W, stand_parms):\n",
    "    Xst = standardize_X(X, stand_parms)\n",
    "    Z, pYst = forward(Xst, V, W)\n",
    "    return Z, unstandardize_Y(pYst, stand_parms)\n",
    "\n",
    "def rmse(pY, Y):\n",
    "    error = Y - pY\n",
    "    return np.sqrt(np.mean(error ** 2))"
   ]
  },
  {
   "cell_type": "code",
   "execution_count": 11,
   "id": "fc65386b-32f8-409a-b541-0b4b818ee544",
   "metadata": {},
   "outputs": [
    {
     "ename": "NameError",
     "evalue": "name 'train_sgd' is not defined",
     "output_type": "error",
     "traceback": [
      "\u001b[0;31m---------------------------------------------------------------------------\u001b[0m",
      "\u001b[0;31mNameError\u001b[0m                                 Traceback (most recent call last)",
      "Cell \u001b[0;32mIn[11], line 20\u001b[0m\n\u001b[1;32m     16\u001b[0m learning_rate \u001b[38;5;241m=\u001b[39m \u001b[38;5;241m0.2\u001b[39m\n\u001b[1;32m     18\u001b[0m V, W \u001b[38;5;241m=\u001b[39m make_weights(n_inputs, n_hiddens, n_outputs)\n\u001b[0;32m---> 20\u001b[0m V, W, stand_parms, error_trace \u001b[38;5;241m=\u001b[39m \u001b[43mtrain_sgd\u001b[49m(Xtrain, Ytrain, V, W, learning_rate, n_epochs)\n\u001b[1;32m     22\u001b[0m _, pYtrain \u001b[38;5;241m=\u001b[39m use(Xtrain, V, W, stand_parms)\n\u001b[1;32m     23\u001b[0m rmse_train \u001b[38;5;241m=\u001b[39m rmse(pYtrain, Ytrain)\n",
      "\u001b[0;31mNameError\u001b[0m: name 'train_sgd' is not defined"
     ]
    }
   ],
   "source": [
    "n_samples = 30\n",
    "\n",
    "   \n",
    "Xtrain = np.linspace(0., 20.0, n_samples).reshape((n_samples, 1))\n",
    "Ytrain =  0.04 * (Xtrain) + 0.4 * np.sin(Xtrain / 2) + 0.4 * np.cos(Xtrain / 2) + 0.2 * np.random.normal(size=(n_samples, 1))\n",
    "\n",
    "Xtest = Xtrain + 0.1 * np.random.normal(size=(n_samples, 1))\n",
    "Ytest = 0.04 * (Xtest) + 0.4 * np.sin(Xtest / 2) + 0.4 * np.cos(Xtrain / 2) + 0.2 * np.random.normal(size=(n_samples, 1))\n",
    "\n",
    "\n",
    "n_inputs = Xtrain.shape[1]\n",
    "n_hiddens = 50\n",
    "n_outputs = Ytrain.shape[1]\n",
    "\n",
    "n_epochs = 2000\n",
    "learning_rate = 0.2\n",
    "\n",
    "V, W = make_weights(n_inputs, n_hiddens, n_outputs)\n",
    "\n",
    "V, W, stand_parms, error_trace = train_sgd(Xtrain, Ytrain, V, W, learning_rate, n_epochs)\n",
    "\n",
    "_, pYtrain = use(Xtrain, V, W, stand_parms)\n",
    "rmse_train = rmse(pYtrain, Ytrain)\n",
    "_, pYtest = use(Xtest, V, W, stand_parms)\n",
    "rmse_test = rmse(pYtest, Ytest)\n",
    "\n",
    "results = [[rmse_train,rmse_test]]\n",
    "\n",
    "df = pd.DataFrame(results, columns=('RMSE on Train', 'RMSE on Test'))\n",
    "df"
   ]
  },
  {
   "cell_type": "code",
   "execution_count": 12,
   "id": "81c8ad35-768a-40a3-bc22-0c7d23ade8d7",
   "metadata": {},
   "outputs": [
    {
     "ename": "NameError",
     "evalue": "name 'error_trace' is not defined",
     "output_type": "error",
     "traceback": [
      "\u001b[0;31m---------------------------------------------------------------------------\u001b[0m",
      "\u001b[0;31mNameError\u001b[0m                                 Traceback (most recent call last)",
      "Cell \u001b[0;32mIn[12], line 3\u001b[0m\n\u001b[1;32m      1\u001b[0m plt\u001b[38;5;241m.\u001b[39mfigure(figsize\u001b[38;5;241m=\u001b[39m(\u001b[38;5;241m10\u001b[39m, \u001b[38;5;241m10\u001b[39m))\n\u001b[1;32m      2\u001b[0m plt\u001b[38;5;241m.\u001b[39msubplot(\u001b[38;5;241m3\u001b[39m, \u001b[38;5;241m1\u001b[39m, \u001b[38;5;241m1\u001b[39m)\n\u001b[0;32m----> 3\u001b[0m plt\u001b[38;5;241m.\u001b[39mplot(\u001b[43merror_trace\u001b[49m)\n\u001b[1;32m      4\u001b[0m plt\u001b[38;5;241m.\u001b[39mxlabel(\u001b[38;5;124m'\u001b[39m\u001b[38;5;124mEpoch\u001b[39m\u001b[38;5;124m'\u001b[39m)\n\u001b[1;32m      5\u001b[0m plt\u001b[38;5;241m.\u001b[39mylabel(\u001b[38;5;124m'\u001b[39m\u001b[38;5;124mRMSE\u001b[39m\u001b[38;5;124m'\u001b[39m)\n",
      "\u001b[0;31mNameError\u001b[0m: name 'error_trace' is not defined"
     ]
    },
    {
     "data": {
      "image/png": "[encoded data removed]",
      "text/plain": [
       "<Figure size 1000x1000 with 1 Axes>"
      ]
     },
     "metadata": {},
     "output_type": "display_data"
    }
   ],
   "source": [
    "plt.figure(figsize=(10, 10))\n",
    "plt.subplot(3, 1, 1)\n",
    "plt.plot(error_trace)\n",
    "plt.xlabel('Epoch')\n",
    "plt.ylabel('RMSE')\n",
    "\n",
    "plt.subplot(3, 1, 2)\n",
    "plt.plot(Xtrain, Ytrain, 'o', label='Training Data')\n",
    "plt.plot(Xtest, Ytest, 'o', label='Testing Data')\n",
    "x_axis = np.linspace(0, 20, 100).reshape(-1, 1)\n",
    "Z_train, Y_train = use(x_axis, V, W, stand_parms)\n",
    "\n",
    "plt.plot(x_axis, Y_train, label='Neural Net Regressor')\n",
    "plt.legend()\n",
    "plt.xlabel('X')\n",
    "plt.ylabel('Y')\n",
    "\n",
    "\n",
    "plt.subplot(3, 1, 3)\n",
    "plt.plot(x_axis, Z_train)\n",
    "plt.xlabel('X')\n",
    "plt.ylabel('Outputs of Hidden Units')\n",
    "\n",
    "plt.tight_layout()\n",
    "plt.show()"
   ]
  },
  {
   "cell_type": "code",
   "execution_count": null,
   "id": "6ae9ed09-c0c6-4687-90c3-faa54ff5e45d",
   "metadata": {},
   "outputs": [],
   "source": []
  }
 ],
 "metadata": {
  "kernelspec": {
   "display_name": "Python 3 (ipykernel)",
   "language": "python",
   "name": "python3"
  },
  "language_info": {
   "codemirror_mode": {
    "name": "ipython",
    "version": 3
   },
   "file_extension": ".py",
   "mimetype": "text/x-python",
   "name": "python",
   "nbconvert_exporter": "python",
   "pygments_lexer": "ipython3",
   "version": "3.12.1"
  }
 },
 "nbformat": 4,
 "nbformat_minor": 5
}
