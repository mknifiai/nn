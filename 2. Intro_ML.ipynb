{
 "cells": [
  {
   "cell_type": "markdown",
   "id": "0e723998-fcf7-444b-8741-7219e3da767c",
   "metadata": {},
   "source": [
    "# Introduction to Machine learning"
   ]
  },
  {
   "cell_type": "markdown",
   "id": "e7aa5a29-1def-47b2-ac88-3a2903dbf497",
   "metadata": {},
   "source": [
    "**Machine learning** is about making computers modify or adapt their actions (whether these actions are making predictions, or controlling a robot) so that these actions get more accurate, where accuracy is measured by how well the chosen actions reflect the correct ones"
   ]
  },
  {
   "cell_type": "markdown",
   "id": "22f5389e-eec7-4cee-ba84-b77c8c8d32e5",
   "metadata": {},
   "source": [
    "__The computational complexity__ is important because we might want to use some of the methods on very large dataset.\n",
    "\n",
    "The complexity is often broken into two parts: \n",
    "- the complexity of training\n",
    "- the complexity of applying the trained algorithm."
   ]
  },
  {
   "cell_type": "markdown",
   "id": "98323ecf-9916-4d1d-ab6d-2d72880351c1",
   "metadata": {},
   "source": [
    "## 1. Key Components\n",
    "\n",
    "1. The data that we can learn from.\n",
    "2. A model of how to transform the data.\n",
    "3. An objective function that quantifies how well (or badly) the model is doing.\n",
    "4. An algorithm to adjust the model’s parameters to optimize the objective function."
   ]
  },
  {
   "cell_type": "markdown",
   "id": "53ef67b4-029b-4932-8695-2f600e5c159d",
   "metadata": {},
   "source": [
    "## 2. Type of Machine Learning"
   ]
  },
  {
   "cell_type": "markdown",
   "id": "5c5c0064-0208-4868-8ebb-f09bf55e6393",
   "metadata": {},
   "source": [
    "__Supervised learning__ a labeled training set is provided and, based on this training set, the algorithm generalises to respond correctly to all possible inputs.\n",
    "\n",
    "__Unsupervised learning__ Correct responses are not provided, but instead the algorithm tries to identify similarities between the inputs so that inputs that have something in common are categorised together. The statistical approach to unsupervised learning is known as density estimation.\n",
    "\n",
    "__Semi-Supervised learning__ uses both labeled and unlabeled data samples in the training process.\n",
    "\n",
    "__Reinforcement learning__  The learning system, called an agent in this context, can observe the environment, select and perform actions, and get rewards in return (or penalties in the form of negative rewards). It must then learn by itself what is the best strategy, called a policy, to get the most reward over time. A policy defines what action the agent should choose when it is in a given situation.\n",
    "\n",
    "__Evolutionary learning__ Biological evolution can be seen as a learning process: biological organisms adapt to improve their survival rates and chance of having offspring in their environment. This is modeled in a computer, using an idea of fitness, which corresponds to a score for how good the current solution is."
   ]
  },
  {
   "cell_type": "markdown",
   "id": "ba9ee143-12fe-4748-88d2-408ac2d9ec5d",
   "metadata": {},
   "source": [
    "## 3. Supervised Learning"
   ]
  },
  {
   "cell_type": "markdown",
   "id": "7121d6c3-dcbc-4332-9693-6c2990d267f4",
   "metadata": {},
   "source": [
    "- There is a set of data (the training data) that consists of a set of input data that has target data, which is the answer that the algorithm should produce.\n",
    "\n",
    "- This is usually written as a set of data $(x_{i},t_{i})$, where the inputs are $x_{i}$, the targets are $t_{i}$, and the $i$ index suggests that we have lots of pieces of data, indexed by $i$ running from 1 to some upper limit $N$.\n",
    "\n",
    "- Supervised learning models define a mapping from input data to an output prediction"
   ]
  },
  {
   "cell_type": "markdown",
   "id": "c79d2b59-3e08-42bb-9956-839af22b30c4",
   "metadata": {},
   "source": [
    "### 3.1 Regression and classification problems"
   ]
  },
  {
   "cell_type": "markdown",
   "id": "0d695114-210f-4d94-9456-6c95a748a76a",
   "metadata": {},
   "source": [
    "#### __Regression__ \n",
    "__Regression__ is about fitting a mathematical function describing a curve, so that the curve passes as close as possible to all of the datapoints. It is generally a problem of function approximation or interpolation, working out the value between values that we know.\n",
    "\n",
    "Predicts the price of a house based on input characteristics such as the square footage and the number of bedrooms. This is a regression problem because the model returns a continuous number (rather than a category assignment). \n",
    "\n",
    "In contrast, when the model takes the chemical structure of a molecule as an input and predicts both the melting and boiling points. This is a multivariate regression problem since it predicts more than one number.\n",
    "\n",
    "#### __Classification__ \n",
    "The model receives a text string containing a restaurant review as input and predicts whether the review is positive or negative. This is a __binary classification__ problem because the model attempts to assign the input to one of two categories. The output vector contains the probabilities that the input belongs to each category.\n",
    "\n",
    "In __the multiclass classification__ problems, the model assigns the input to one of N > 2 categories."
   ]
  },
  {
   "cell_type": "markdown",
   "id": "70cc76fb-5799-415a-acc5-bdc23af52bcb",
   "metadata": {},
   "source": [
    "## 4. Testing Machine Learning Algorithms"
   ]
  },
  {
   "cell_type": "markdown",
   "id": "9e5c983e-30a7-411a-b99b-af60149eb680",
   "metadata": {},
   "source": [
    "We want the ML algorithm to __generalise__ to examples that were not seen in the training set. So we divide the dataset into training and test sets.\n",
    "\n",
    "- In learning, we want to stop the learning process before the algorithm overfits, which means that we need to know how well it is generalising at each timestep.\n",
    "- We need a third set of data to use for this purpose, which is called the validation set because we’re using it to validate the learning so far.\n",
    "- This is known as cross-validation in statistics. It is part of model selection: choosing the right parameters for the model so that it generalises as well as possible."
   ]
  },
  {
   "cell_type": "markdown",
   "id": "b0dacaa6-89bc-48ea-bdef-24dba447d1ce",
   "metadata": {},
   "source": [
    "- What does overfit mean?\n",
    "- As the network continues to learn, it will eventually produce a much more complex model that has a lower training error (close to zero), meaning that it has memorised the training examples, including any noise component of them, so that is has overfitted the training data."
   ]
  },
  {
   "cell_type": "markdown",
   "id": "4aa29a4f-aeb5-45a8-bb03-4f7272d166e5",
   "metadata": {},
   "source": [
    "<img src=\"cv.png\" width=500 height=500 />"
   ]
  },
  {
   "cell_type": "markdown",
   "id": "95534824-fb1f-4cb0-9f24-334aa5550cc4",
   "metadata": {},
   "source": [
    "## 5. Measures"
   ]
  },
  {
   "cell_type": "markdown",
   "id": "4947c742-e6c4-4d84-b60a-222e4ea631da",
   "metadata": {},
   "source": [
    "- A method that is suitable for classification problems that is known as the confusion matrix.\n",
    "- For regression problems things are more complicated because the results are continuous, and so the most common thing to use is the sum-of-squares error"
   ]
  },
  {
   "cell_type": "markdown",
   "id": "432feb23-123c-4cf1-b85f-d0499dc551db",
   "metadata": {},
   "source": [
    "#### - Metrics used to help us to interpret the performance of a classifier\n",
    "  \n",
    "- Accuracy is the proportion of all classifications that were correct, whether positive or negative\n",
    "\n",
    "    - Accuracy = $\\frac{TP + FP}  {TP + FP + TN + FN}$\n"
   ]
  },
  {
   "cell_type": "markdown",
   "id": "83383b38-1eab-4f85-97f4-50f490dfdcaf",
   "metadata": {},
   "source": [
    "- **Sensitivity** (also known as the true positive rate) is the ratio of the number of correct positive examples to the number classified as positive, while **specificity** is the same ratio for negative examples.\n",
    "\n",
    "- **Sensitivity and specificity** are measures of a test's ability to correctly classify a person as having a disease or not having a disease. Sensitivity refers to a test's ability to designate an individual with disease as positive. A highly sensitive test means that there are few false negative results, and thus fewer cases of disease are missed. The specificity of a test is its ability to designate an individual who does not have a disease as negative.\n",
    "\n",
    "    - Sensitivity = $\\frac{TP}  {TP + FN}$\n",
    "\n",
    "    - Specificity = $\\frac{TN}  {TN + FP}$\n",
    "\n"
   ]
  },
  {
   "cell_type": "markdown",
   "id": "9478e3a6-a638-40c7-9cfe-2f9c6637b4bc",
   "metadata": {},
   "source": [
    "- **Precision** is the ratio of correct positive examples to the number of actual positive examples, while **recall** is the ratio of the number of correct positive examples out of those that were classified as positive, which is the same as sensitivity\n",
    "  \n",
    "    - Precision = $\\frac{TP} {TP + FP}$\n",
    "\n",
    "    - Recall = $\\frac{TP} {TP + FN}$\n",
    "\n"
   ]
  },
  {
   "cell_type": "markdown",
   "id": "56d135f1-6a42-4544-b90c-09b4a6500d92",
   "metadata": {},
   "source": [
    "- __precision and recall__ are to some extent inversely related, in that if the number of false positives increases, then the number of false negatives often decreases, and vice versa. They can be combined to give a single measure, the F1 measure, which can be written in terms of precision and recall as\n",
    "\n",
    "    - $F_{1} = \\frac{TP}{TP + (FN + FP) / 2}$\n",
    "  "
   ]
  },
  {
   "cell_type": "markdown",
   "id": "e9c24a3f-470f-494d-b98a-9c2cf1315be5",
   "metadata": {},
   "source": [
    "- Unbalanced Datasets\n",
    "    - We can use area under the curve (AUC) or Matthew’s Correlation Coefficient"
   ]
  },
  {
   "cell_type": "code",
   "execution_count": null,
   "id": "b309ab5b-93ae-4a52-b5fb-13a27292d373",
   "metadata": {},
   "outputs": [],
   "source": []
  }
 ],
 "metadata": {
  "kernelspec": {
   "display_name": "Python 3 (ipykernel)",
   "language": "python",
   "name": "python3"
  },
  "language_info": {
   "codemirror_mode": {
    "name": "ipython",
    "version": 3
   },
   "file_extension": ".py",
   "mimetype": "text/x-python",
   "name": "python",
   "nbconvert_exporter": "python",
   "pygments_lexer": "ipython3",
   "version": "3.12.1"
  }
 },
 "nbformat": 4,
 "nbformat_minor": 5
}
