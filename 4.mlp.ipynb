{
 "cells": [
  {
   "cell_type": "markdown",
   "id": "5dc6f42b-e057-4b67-84b1-ad8f65ec4ce2",
   "metadata": {},
   "source": [
    "# The Multi-layer Perceptron"
   ]
  },
  {
   "cell_type": "markdown",
   "id": "e804c14f-9551-4958-b4fa-af2dc98cd948",
   "metadata": {},
   "source": [
    "### The Multi-layer Perceptron network, consisting of multiple layers of connected neurons."
   ]
  },
  {
   "cell_type": "markdown",
   "id": "589a5e76-97b0-44a7-81b4-82a4238ef673",
   "metadata": {},
   "source": [
    "<img src=\"mlp.png\" width=400 height=400 />"
   ]
  },
  {
   "cell_type": "markdown",
   "id": "ae8e6b2e-8d49-4dfa-8e3c-b8d54d03a4df",
   "metadata": {},
   "source": [
    "## Universal Approximators"
   ]
  },
  {
   "cell_type": "markdown",
   "id": "63d95b61-f37a-413d-9ecf-8b329959770a",
   "metadata": {},
   "source": [
    "__It is possible to show mathematically that even with a single-hidden-layer network, given enough nodes,<br> and the right set of weights, we can model any function__"
   ]
  },
  {
   "cell_type": "markdown",
   "id": "dadd4d47-5abd-4112-9fe9-3691ec3974fd",
   "metadata": {},
   "source": [
    "## How to obtain non-linear classifier?"
   ]
  },
  {
   "cell_type": "markdown",
   "id": "d5b9f50b-2546-4089-b165-fe8e9eb1877e",
   "metadata": {},
   "source": [
    "- We can overcome the limitations of linear models by incorporating one or more hidden layers. <br> <br>\n",
    "- The easiest way to do this is to stack many fully connected layers on top of one another."
   ]
  },
  {
   "cell_type": "markdown",
   "id": "c85f6d2c-0d27-4eed-9eef-991e2b5b2e53",
   "metadata": {},
   "source": [
    "### What about the activation function?"
   ]
  },
  {
   "cell_type": "markdown",
   "id": "6777880c-c38f-4082-a830-417c647a7484",
   "metadata": {},
   "source": [
    " - Activation functions decide whether a neuron should be activated or not <br>\n",
    "   by calculating the weighted sum and further adding bias to it. <br> <br> \n",
    " - Binary step activation function (threshold activation function) is not differentiable. <br> <br> \n",
    " - We need to use an activation function that can be differentiated. "
   ]
  },
  {
   "cell_type": "markdown",
   "id": "002343a2-3510-411a-8fed-672275b3478a",
   "metadata": {},
   "source": [
    "### Common activation functions in neural networks include:"
   ]
  },
  {
   "cell_type": "markdown",
   "id": "7fae60ac-2e81-480c-aafc-0d8feb434ec3",
   "metadata": {},
   "source": [
    "- **The sigmoid function**, which maps any input to a value between 0 and 1.\n",
    "- **The hyperbolic tangent (or tanh) function**, which maps inputs to a value between -1 and 1.\n",
    "- **The rectified linear unit (or ReLU)**, which maps any negative input to 0 and leaves any positive input unchanged.\n",
    "- **The softmax function**, which converts a vector of inputs to a vector whose elements range from 0 and 1 and collectively sum to 1."
   ]
  },
  {
   "cell_type": "markdown",
   "id": "de3f824c-8c19-4820-b761-bdcdb69b6632",
   "metadata": {},
   "source": [
    "<img src=\"activ.fun.png\" width=500 height=500 />"
   ]
  },
  {
   "cell_type": "markdown",
   "id": "51b84e28-0d7c-49b3-b525-1800202e11f7",
   "metadata": {},
   "source": [
    "## The Multi-layer Perceptron Algorithm"
   ]
  },
  {
   "cell_type": "markdown",
   "id": "9e4347fe-4679-4df3-9fb4-52e9578735cf",
   "metadata": {},
   "source": [
    "<img src=\"mlp_algorithm.png\" width=500 height=500 />"
   ]
  },
  {
   "cell_type": "markdown",
   "id": "e2979636-54bf-4f63-8312-4c0906dea77a",
   "metadata": {},
   "source": [
    "## The forward pass"
   ]
  },
  {
   "cell_type": "markdown",
   "id": "e46f3e36-104e-4c33-935c-6b677663037f",
   "metadata": {},
   "source": [
    "<img src=\"fwd.png\" width=500 height=500 />"
   ]
  },
  {
   "cell_type": "markdown",
   "id": "2f846441-e7f1-4ae6-bfd4-d12e227cb1c6",
   "metadata": {},
   "source": [
    "### Learning as loss minimization"
   ]
  },
  {
   "cell_type": "markdown",
   "id": "c986e2b2-6667-4152-83ba-db0d7b513833",
   "metadata": {},
   "source": [
    "<img src=\"minim_loss.png\" width=500 height=500 />"
   ]
  },
  {
   "cell_type": "markdown",
   "id": "81bb321f-30a7-4458-8094-ff60d97d8b2c",
   "metadata": {},
   "source": [
    "## The backward pass"
   ]
  },
  {
   "cell_type": "markdown",
   "id": "ad066bce-4e8b-420b-a3c0-e3e9209b606d",
   "metadata": {},
   "source": [
    "<img src=\"bwd0.png\" width=500 height=500 />"
   ]
  },
  {
   "cell_type": "markdown",
   "id": "b44190bc-3c78-4b17-b0fd-c64cdc121ba3",
   "metadata": {},
   "source": [
    "<img src=\"bwd1.png\" width=500 height=500 />"
   ]
  },
  {
   "cell_type": "markdown",
   "id": "5a7be116-c666-44ff-8489-1ac10dbf3cde",
   "metadata": {},
   "source": [
    "<img src=\"bwd2.png\" width=500 height=500 />"
   ]
  },
  {
   "cell_type": "markdown",
   "id": "e378944d-08a2-401a-97c2-65bb3756543f",
   "metadata": {},
   "source": [
    "<img src=\"bwd3.png\" width=500 height=500 />"
   ]
  },
  {
   "cell_type": "markdown",
   "id": "49d31924-158a-4779-9dfe-b746f083b2e5",
   "metadata": {},
   "source": [
    "<img src=\"s.png\" width=300 height=300 />"
   ]
  },
  {
   "cell_type": "markdown",
   "id": "0f8847ed-1062-4426-8f9f-abae937ee3cf",
   "metadata": {},
   "source": [
    "<img src=\"bwd4.png\" width=500 height=500 />"
   ]
  },
  {
   "cell_type": "markdown",
   "id": "1442ceb2-5bbd-4cb3-84c9-4ac4122d1d19",
   "metadata": {},
   "source": [
    "## Neural Network Regression Implementation"
   ]
  },
  {
   "cell_type": "code",
   "execution_count": 27,
   "id": "586a1596-f9b9-41ea-bdeb-9541e3893cfc",
   "metadata": {},
   "outputs": [],
   "source": [
    "import numpy as np\n",
    "\n",
    "class mlp:\n",
    "    \"\"\" A Multi-Layer Perceptron\"\"\"\n",
    "    \n",
    "    def __init__(self,inputs,targets,nhidden,beta=1,momentum=0.9,outtype='logistic'):\n",
    "        \"\"\" Constructor \"\"\"\n",
    "        # Set up network size\n",
    "        self.nin = np.shape(inputs)[1]\n",
    "        self.nout = np.shape(targets)[1]\n",
    "        self.ndata = np.shape(inputs)[0]\n",
    "        self.nhidden = nhidden\n",
    "\n",
    "        self.beta = beta\n",
    "        self.momentum = momentum\n",
    "        self.outtype = outtype\n",
    "    \n",
    "        # Initialise network\n",
    "        self.weights1 = (np.random.rand(self.nin+1,self.nhidden)-0.5)*2/np.sqrt(self.nin)\n",
    "        self.weights2 = (np.random.rand(self.nhidden+1,self.nout)-0.5)*2/np.sqrt(self.nhidden)\n",
    "\n",
    "    def earlystopping(self,inputs,targets,valid,validtargets,eta,niterations=100):\n",
    "    \n",
    "        valid = np.concatenate((valid,-np.ones((np.shape(valid)[0],1))),axis=1)\n",
    "        \n",
    "        old_val_error1 = 100002\n",
    "        old_val_error2 = 100001\n",
    "        new_val_error = 100000\n",
    "        \n",
    "        count = 0\n",
    "        while (((old_val_error1 - new_val_error) > 0.001) or ((old_val_error2 - old_val_error1)>0.001)):\n",
    "            count+=1\n",
    "            print (count)\n",
    "            self.mlptrain(inputs,targets,eta,niterations)\n",
    "            old_val_error2 = old_val_error1\n",
    "            old_val_error1 = new_val_error\n",
    "            validout = self.mlpfwd(valid)\n",
    "            new_val_error = 0.5*np.sum((validtargets-validout)**2)\n",
    "            \n",
    "        print (\"Stopped\", new_val_error,old_val_error1, old_val_error2)\n",
    "        return new_val_error\n",
    "    \t\n",
    "    def mlptrain(self,inputs,targets,eta,niterations):\n",
    "        \"\"\" Train the thing \"\"\"    \n",
    "        # Add the inputs that match the bias node\n",
    "        inputs = np.concatenate((inputs,-np.ones((self.ndata,1))),axis=1)\n",
    "        change = range(self.ndata)\n",
    "    \n",
    "        updatew1 = np.zeros((np.shape(self.weights1)))\n",
    "        updatew2 = np.zeros((np.shape(self.weights2)))\n",
    "            \n",
    "        for n in range(niterations):\n",
    "    \n",
    "            self.outputs = self.mlpfwd(inputs)\n",
    "\n",
    "            error = 0.5*np.sum((self.outputs-targets)**2)\n",
    "            if (np.mod(n,100)==0):\n",
    "                print (\"Iteration: \",n, \" Error: \",error)\n",
    "\n",
    "            # Different types of output neurons\n",
    "            if self.outtype == 'linear':\n",
    "            \tdeltao = (self.outputs-targets)/self.ndata\n",
    "            elif self.outtype == 'logistic':\n",
    "            \tdeltao = self.beta*(self.outputs-targets)*self.outputs*(1.0-self.outputs)\n",
    "            elif self.outtype == 'softmax':\n",
    "                deltao = (self.outputs-targets)*(self.outputs*(-self.outputs)+self.outputs)/self.ndata \n",
    "            else:\n",
    "            \tprint (\"error\")\n",
    "            \n",
    "            deltah = self.hidden*self.beta*(1.0-self.hidden)*(np.dot(deltao,np.transpose(self.weights2)))\n",
    "                      \n",
    "            updatew1 = eta*(np.dot(np.transpose(inputs),deltah[:,:-1])) + self.momentum*updatew1\n",
    "            updatew2 = eta*(np.dot(np.transpose(self.hidden),deltao)) + self.momentum*updatew2\n",
    "            self.weights1 -= updatew1\n",
    "            self.weights2 -= updatew2\n",
    "                \n",
    "            # Randomise order of inputs (not necessary for matrix-based calculation)\n",
    "            #np.random.shuffle(change)\n",
    "            #inputs = inputs[change,:]\n",
    "            #targets = targets[change,:]\n",
    "            \n",
    "    def mlpfwd(self,inputs):\n",
    "        \"\"\" Run the network forward \"\"\"\n",
    "\n",
    "        self.hidden = np.dot(inputs,self.weights1);\n",
    "        self.hidden = 1.0/(1.0+np.exp(-self.beta*self.hidden))\n",
    "        self.hidden = np.concatenate((self.hidden,-np.ones((np.shape(inputs)[0],1))),axis=1)\n",
    "\n",
    "        outputs = np.dot(self.hidden,self.weights2);\n",
    "\n",
    "        # Different types of output neurons\n",
    "        if self.outtype == 'linear':\n",
    "        \treturn outputs\n",
    "        elif self.outtype == 'logistic':\n",
    "            return 1.0/(1.0+np.exp(-self.beta*outputs))\n",
    "        elif self.outtype == 'softmax':\n",
    "            normalisers = np.sum(np.exp(outputs),axis=1)*np.ones((1,np.shape(outputs)[0]))\n",
    "            return np.transpose(np.transpose(np.exp(outputs))/normalisers)\n",
    "        else:\n",
    "            print (\"error\")\n",
    "\n",
    "    def confmat(self,inputs,targets):\n",
    "        \"\"\"Confusion matrix\"\"\"\n",
    "\n",
    "        # Add the inputs that match the bias node\n",
    "        inputs = np.concatenate((inputs,-np.ones((np.shape(inputs)[0],1))),axis=1)\n",
    "        outputs = self.mlpfwd(inputs)\n",
    "        \n",
    "        nclasses = np.shape(targets)[1]\n",
    "\n",
    "        if nclasses==1:\n",
    "            nclasses = 2\n",
    "            outputs = np.where(outputs>0.5,1,0)\n",
    "        else:\n",
    "            # 1-of-N encoding\n",
    "            outputs = np.argmax(outputs,1)\n",
    "            targets = np.argmax(targets,1)\n",
    "\n",
    "        cm = np.zeros((nclasses,nclasses))\n",
    "        for i in range(nclasses):\n",
    "            for j in range(nclasses):\n",
    "                cm[i,j] = np.sum(np.where(outputs==i,1,0)*np.where(targets==j,1,0))\n",
    "\n",
    "        print (\"Confusion matrix is:\")\n",
    "        print (cm)\n",
    "        print (\"Percentage Correct: \",np.trace(cm)/np.sum(cm)*100)"
   ]
  },
  {
   "cell_type": "code",
   "execution_count": 28,
   "id": "cceb1ab8-2686-4cdf-9057-4a7c2667a19f",
   "metadata": {},
   "outputs": [
    {
     "data": {
      "image/png": "[encoded data removed]",
      "text/plain": [
       "<Figure size 640x480 with 1 Axes>"
      ]
     },
     "metadata": {},
     "output_type": "display_data"
    }
   ],
   "source": [
    "import matplotlib.pyplot as plt\n",
    "import numpy as np\n",
    "\n",
    "# Set up the data\n",
    "x = np.linspace(0,1,40).reshape((40,1))\n",
    "t = np.sin(2*np.pi*x) + np.cos(4*np.pi*x) + np.random.randn(40).reshape((40,1))*0.2\n",
    "x = (x-0.5)*2\n",
    "\n",
    "# Split into training, testing, and validation sets\n",
    "train = x[0::2,:]\n",
    "test = x[1::4,:]\n",
    "valid = x[3::4,:]\n",
    "traintarget = t[0::2,:]\n",
    "testtarget = t[1::4,:]\n",
    "validtarget = t[3::4,:]\n",
    "\n",
    "# Plot the data\n",
    "plt.plot(x,t,'o')\n",
    "plt.xlabel('x')\n",
    "plt.ylabel('t')\n",
    "plt.show()"
   ]
  },
  {
   "cell_type": "code",
   "execution_count": 29,
   "id": "c1512a95-98d6-4508-83c7-1aa5c2397dd3",
   "metadata": {},
   "outputs": [
    {
     "name": "stdout",
     "output_type": "stream",
     "text": [
      "(20, 1)\n",
      "Iteration:  0  Error:  9.870188311019637\n",
      "1\n",
      "Iteration:  0  Error:  6.305789532498305\n",
      "2\n",
      "Iteration:  0  Error:  5.881237999174001\n",
      "3\n",
      "Iteration:  0  Error:  5.002743431969864\n",
      "4\n",
      "Iteration:  0  Error:  2.0107818114247786\n",
      "5\n",
      "Iteration:  0  Error:  1.2504054984996358\n",
      "6\n",
      "Iteration:  0  Error:  1.2154349901190071\n",
      "7\n",
      "Iteration:  0  Error:  1.1862998588276767\n",
      "8\n",
      "Iteration:  0  Error:  1.1534680193974127\n",
      "9\n",
      "Iteration:  0  Error:  1.1131839808574546\n",
      "10\n",
      "Iteration:  0  Error:  1.0600530803843677\n",
      "11\n",
      "Iteration:  0  Error:  0.988903381022849\n",
      "12\n",
      "Iteration:  0  Error:  0.9027999002317708\n",
      "13\n",
      "Iteration:  0  Error:  0.8183407942470569\n",
      "14\n",
      "Iteration:  0  Error:  0.752384813127488\n",
      "15\n",
      "Iteration:  0  Error:  0.7070597439826645\n",
      "16\n",
      "Iteration:  0  Error:  0.6754761861012686\n",
      "17\n",
      "Iteration:  0  Error:  0.6510571836185733\n",
      "18\n",
      "Iteration:  0  Error:  0.6297834478593941\n",
      "19\n",
      "Iteration:  0  Error:  0.6096797075564665\n",
      "20\n",
      "Iteration:  0  Error:  0.5901874201388351\n",
      "21\n",
      "Iteration:  0  Error:  0.5714003014969555\n",
      "22\n",
      "Iteration:  0  Error:  0.5534324316019045\n",
      "23\n",
      "Iteration:  0  Error:  0.5363309784165156\n",
      "24\n",
      "Iteration:  0  Error:  0.520129422140047\n",
      "25\n",
      "Iteration:  0  Error:  0.5048510300872788\n",
      "26\n",
      "Iteration:  0  Error:  0.4905055551982994\n",
      "27\n",
      "Iteration:  0  Error:  0.477089181062998\n",
      "28\n",
      "Iteration:  0  Error:  0.4645859072809318\n",
      "29\n",
      "Iteration:  0  Error:  0.4529695203585422\n",
      "30\n",
      "Iteration:  0  Error:  0.44220576595807454\n",
      "31\n",
      "Iteration:  0  Error:  0.4322544834048498\n",
      "32\n",
      "Iteration:  0  Error:  0.42307155409646147\n",
      "33\n",
      "Iteration:  0  Error:  0.41461058505133286\n",
      "34\n",
      "Iteration:  0  Error:  0.4068242993353249\n",
      "35\n",
      "Iteration:  0  Error:  0.3996656385225809\n",
      "36\n",
      "Iteration:  0  Error:  0.3930886020793357\n",
      "37\n",
      "Iteration:  0  Error:  0.3870488582967721\n",
      "38\n",
      "Iteration:  0  Error:  0.38150416440645424\n",
      "39\n",
      "Iteration:  0  Error:  0.3764146323612725\n",
      "40\n",
      "Iteration:  0  Error:  0.3717428733223496\n",
      "Stopped 0.46701060442373504 0.46769846561410083 0.4685613005865642\n"
     ]
    },
    {
     "data": {
      "text/plain": [
       "0.46701060442373504"
      ]
     },
     "execution_count": 29,
     "metadata": {},
     "output_type": "execute_result"
    }
   ],
   "source": [
    "# Perform basic training with a small MLP\n",
    "print(train.shape)\n",
    "net = mlp(train,traintarget,3,outtype='linear')\n",
    "net.mlptrain(train,traintarget,0.25,100)\n",
    "\n",
    "# Use early stopping\n",
    "net.earlystopping(train,traintarget,valid,validtarget,0.25)"
   ]
  },
  {
   "cell_type": "code",
   "execution_count": null,
   "id": "4c100959-2f55-447a-99ed-56412f98686b",
   "metadata": {},
   "outputs": [],
   "source": []
  },
  {
   "cell_type": "code",
   "execution_count": null,
   "id": "4339080d-4b6c-4abf-a3ac-264f6aa4f7a0",
   "metadata": {},
   "outputs": [],
   "source": []
  },
  {
   "cell_type": "code",
   "execution_count": null,
   "id": "cd1e1fa6-5143-4739-b83b-6dbe4f6e2065",
   "metadata": {},
   "outputs": [],
   "source": [
    "import numpy as np\n",
    "import matplotlib.pyplot as plt\n",
    "\n",
    "import IPython.display as ipd  # for display and clear_output\n",
    "import time  # for sleep"
   ]
  },
  {
   "cell_type": "code",
   "execution_count": null,
   "id": "e574abbc-acbe-4ce9-bf6f-afc781298ba8",
   "metadata": {},
   "outputs": [],
   "source": [
    "# Make some training data\n",
    "n = 20\n",
    "X = np.linspace(0., 20.0, n).reshape((n, 1)) - 10\n",
    "T = 0.2 + 0.05 * (X + 10) + 0.4 * np.sin(X + 10) + 0.2 * np.random.normal(size=(n, 1))\n",
    "\n",
    "# Make some testing data\n",
    "Xtest = X + 0.1 * np.random.normal(size=(n, 1))\n",
    "Ttest = 0.2 + 0.05 * (X + 10) + 0.4 * np.sin(Xtest + 10) + 0.2 * np.random.normal(size=(n, 1))\n",
    "\n",
    "nSamples = X.shape[0]\n",
    "nOutputs = T.shape[1]"
   ]
  },
  {
   "cell_type": "code",
   "execution_count": null,
   "id": "f3fb5a28-c857-4ace-a828-462076d8e9e0",
   "metadata": {},
   "outputs": [],
   "source": [
    "plt.plot(X, T, label='Training Data')\n",
    "plt.plot(Xtest, Ttest, label='Testing Data')\n",
    "plt.legend();"
   ]
  },
  {
   "cell_type": "code",
   "execution_count": null,
   "id": "fb5d3fba-4a85-4d46-a4d8-fe1f34df5d4c",
   "metadata": {},
   "outputs": [],
   "source": [
    "# Set parameters of neural network\n",
    "nHiddens = 10\n",
    "\n",
    "rhoh = 0.5\n",
    "rhoo = 0.1\n",
    "\n",
    "rh = rhoh / (nSamples * nOutputs)\n",
    "ro = rhoo / (nSamples * nOutputs)\n",
    "\n",
    "# Initialize weights to uniformly distributed values between small normally-distributed between -0.1 and 0.1\n",
    "V = 0.1 * 2 * (np.random.uniform(size=(1 + 1, nHiddens)) - 0.5)\n",
    "W = 0.1 * 2 * (np.random.uniform(size=(1 + nHiddens, nOutputs)) - 0.5)\n",
    "\n",
    "# Add constant column of 1's\n",
    "def addOnes(A):\n",
    "    return np.insert(A, 0, 1, axis=1)\n",
    "\n",
    "X1 = addOnes(X)\n",
    "Xtest1 = addOnes(Xtest)\n",
    "\n",
    "# Take nSteps steepest descent steps in gradient descent search in mean-squared-error function\n",
    "nSteps = 30000\n",
    "\n",
    "# collect training and testing errors for plotting\n",
    "errorTrace = np.zeros((nSteps, 2))\n",
    "\n",
    "fig = plt.figure(figsize=(10 ,8))\n",
    "\n",
    "for step in range(nSteps):\n",
    "\n",
    "    # Forward pass on training data\n",
    "    Z = np.tanh(X1 @ V)\n",
    "    Z1 = addOnes(Z)\n",
    "    Y = Z1 @ W\n",
    "\n",
    "    # Error in output\n",
    "    error = T - Y\n",
    "\n",
    "    # Backward pass - the backpropagation and weight update steps\n",
    "    V = V + rh * X1.T @ ( ( error @ W[1:, :].T) * (1 - Z**2))\n",
    "    W = W + ro * Z1.T @ error\n",
    "\n",
    "    # error traces for plotting\n",
    "    errorTrace[step, 0] = np.sqrt(np.mean((error**2)))\n",
    "    \n",
    "    Ytest = addOnes(np.tanh(Xtest1 @ V)) @ W  #!! Forward pass in one line\n",
    "    errorTrace[step, 1] = np.sqrt(np.mean((Ytest - Ttest)**2))\n",
    "\n",
    "    if step % 1000 == 0 or step == nSteps-1:\n",
    "        \n",
    "        plt.clf()\n",
    "        \n",
    "        # Plot the trace of the mean squared error on training and testing data\n",
    "        plt.subplot(3, 1, 1)\n",
    "        plt.plot(errorTrace[:step, :])\n",
    "        plt.ylim(0, 0.7)\n",
    "        plt.xlabel('Epochs')\n",
    "        plt.ylabel('RMSE')\n",
    "        plt.legend(('Train','Test'), loc='upper left')\n",
    "        \n",
    "        # Plot the training and testing data, and \n",
    "        # the output of our neural network model on the test data\n",
    "        plt.subplot(3, 1, 2)\n",
    "        plt.plot(X, T, 'o-', Xtest, Ttest, 'o-', Xtest, Ytest, 'o-')\n",
    "        plt.xlim(-10, 10)\n",
    "        plt.legend(('Training','Testing','Model'), loc='upper left')\n",
    "        plt.xlabel('$x$')\n",
    "        plt.ylabel('Actual and Predicted $f(x)$')\n",
    "        \n",
    "        # Plot the output of the hidden layer for each training sample\n",
    "        plt.subplot(3, 1, 3)\n",
    "        plt.plot(X, Z)\n",
    "        plt.ylim(-1.1, 1.1)\n",
    "        plt.xlabel('$x$')\n",
    "        plt.ylabel('Hidden Unit Outputs ($z$)')\n",
    "\n",
    "        plt.tight_layout()\n",
    "        \n",
    "        ipd.clear_output(wait=True)\n",
    "        ipd.display(fig)\n",
    "ipd.clear_output(wait=True)"
   ]
  }
 ],
 "metadata": {
  "kernelspec": {
   "display_name": "Python 3 (ipykernel)",
   "language": "python",
   "name": "python3"
  },
  "language_info": {
   "codemirror_mode": {
    "name": "ipython",
    "version": 3
   },
   "file_extension": ".py",
   "mimetype": "text/x-python",
   "name": "python",
   "nbconvert_exporter": "python",
   "pygments_lexer": "ipython3",
   "version": "3.12.1"
  }
 },
 "nbformat": 4,
 "nbformat_minor": 5
}
