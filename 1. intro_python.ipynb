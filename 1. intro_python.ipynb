{
 "cells": [
  {
   "cell_type": "markdown",
   "id": "8c2f1bc2-5dd5-4d63-8f28-de725451c05f",
   "metadata": {},
   "source": [
    "## Why Python?\n",
    "\n",
    "- Concise, intuitive programming language\n",
    "- Ability to play with data and computation ideas\n",
    "- Rich, easy-to-use visualization\n",
    "- Fast computation\n",
    "- Large community of users and developers\n",
    "- It is FREE\n",
    "- It works on different platforms (Windows, Mac, Linux, Raspberry Pi)\n"
   ]
  },
  {
   "cell_type": "markdown",
   "id": "c5dfad2e-77d8-4e9a-9847-2020e6d0276d",
   "metadata": {},
   "source": [
    "## What is Python?\n",
    "\n",
    "- an open-source language and evironment for computing and graphics\n",
    "- is a multi-paradigm programming language\n",
    "- has a dynmaic typing\n",
    "- has garabage collection\n",
    "- is the language of choice for many researchers in AI"
   ]
  },
  {
   "cell_type": "markdown",
   "id": "7e92a56c-bd26-4035-aca8-2a9363e53701",
   "metadata": {},
   "source": [
    "## Installing Python\n",
    "\n",
    "- You can run Python code from colab which is a hosted Jupyter Notebook service\n",
    "- You can downalod and install Python on your own computer by following instructions at www.python.org\n",
    "- You can download jupyter lab or notebook at https://jupyter.org/"
   ]
  },
  {
   "cell_type": "markdown",
   "id": "0ce3b0e4-6032-493b-88ff-df8883ce6377",
   "metadata": {},
   "source": [
    "## Python tutorial (https://docs.python.org/3/tutorial/index.html)\n",
    "### Control flow"
   ]
  },
  {
   "cell_type": "code",
   "execution_count": null,
   "id": "a39e8aee-3934-45fb-bf43-e6218a57b3f4",
   "metadata": {},
   "outputs": [],
   "source": [
    "if statement: \n",
    "    commands\n",
    "elif:\n",
    "    commands\n",
    "else:\n",
    "    commands"
   ]
  },
  {
   "cell_type": "code",
   "execution_count": null,
   "id": "8c7c4715-24e6-4a05-b708-d7cbd1bd4f2d",
   "metadata": {},
   "outputs": [],
   "source": [
    "for var in set: \n",
    "    commands\n",
    "else:\n",
    "    commands"
   ]
  },
  {
   "cell_type": "code",
   "execution_count": 18,
   "id": "47211246-1c78-4fea-bba3-0d0254adcb19",
   "metadata": {},
   "outputs": [
    {
     "name": "stdout",
     "output_type": "stream",
     "text": [
      "[0, 1, 2, 3, 4, 5, 6, 7, 8, 9]\n"
     ]
    }
   ],
   "source": [
    "x = [i for i in range(10)]\n",
    "print(x)"
   ]
  },
  {
   "cell_type": "code",
   "execution_count": null,
   "id": "91023a3f-18bf-473a-a30a-47733c0436be",
   "metadata": {},
   "outputs": [],
   "source": [
    "while condition: \n",
    "    commands\n",
    "else:\n",
    "    commands"
   ]
  },
  {
   "cell_type": "markdown",
   "id": "0e0dc644-8c0c-4eef-a780-1f55d7f4cff0",
   "metadata": {},
   "source": [
    "### Function"
   ]
  },
  {
   "cell_type": "code",
   "execution_count": null,
   "id": "09952090-fd44-444d-908d-d42296ceec52",
   "metadata": {},
   "outputs": [],
   "source": [
    "def name(args): \n",
    "    commands\n",
    "return value"
   ]
  },
  {
   "cell_type": "code",
   "execution_count": 5,
   "id": "57ce7e90-30c4-4a7e-9554-0c6ba4e10372",
   "metadata": {},
   "outputs": [],
   "source": [
    "## Default Argument Values\n",
    "\n",
    "def ask_ok(prompt, retries=4, reminder='Please try again!'):\n",
    "    while True:\n",
    "        reply = input(prompt)\n",
    "        if reply in {'y', 'ye', 'yes'}:\n",
    "            return True\n",
    "        if reply in {'n', 'no', 'nop', 'nope'}:\n",
    "            return False\n",
    "        retries = retries - 1\n",
    "        if retries < 0:\n",
    "            raise ValueError('invalid user response')\n",
    "        print(reminder)"
   ]
  },
  {
   "cell_type": "code",
   "execution_count": 6,
   "id": "632ed089-42d3-44ae-89cb-430dd3909a10",
   "metadata": {},
   "outputs": [
    {
     "name": "stdin",
     "output_type": "stream",
     "text": [
      "type your prompt here y\n"
     ]
    },
    {
     "data": {
      "text/plain": [
       "True"
      ]
     },
     "execution_count": 6,
     "metadata": {},
     "output_type": "execute_result"
    }
   ],
   "source": [
    "ask_ok('type your prompt here')"
   ]
  },
  {
   "cell_type": "code",
   "execution_count": 11,
   "id": "5f00bf7e-8858-4a5e-a118-62cc2989c84e",
   "metadata": {},
   "outputs": [],
   "source": [
    "## The default values are evaluated at the point of function definition in the defining scope\n",
    "\n",
    "i = 5\n",
    "\n",
    "def f(arg=i):\n",
    "    print(arg)"
   ]
  },
  {
   "cell_type": "code",
   "execution_count": 12,
   "id": "b081523c-2a73-4920-85e0-0d11909335de",
   "metadata": {},
   "outputs": [
    {
     "name": "stdout",
     "output_type": "stream",
     "text": [
      "5\n"
     ]
    }
   ],
   "source": [
    "i = 6\n",
    "f()"
   ]
  },
  {
   "cell_type": "code",
   "execution_count": 13,
   "id": "083b2d73-773c-4469-b130-921fb020c8c5",
   "metadata": {},
   "outputs": [
    {
     "name": "stdout",
     "output_type": "stream",
     "text": [
      "6\n"
     ]
    }
   ],
   "source": [
    "f(6)"
   ]
  },
  {
   "cell_type": "code",
   "execution_count": 14,
   "id": "b9970bdc-2563-4352-a289-0a875b08595c",
   "metadata": {},
   "outputs": [],
   "source": [
    "def cheeseshop(kind, *arguments, **keywords):\n",
    "    print(\"-- Do you have any\", kind, \"?\")\n",
    "    print(\"-- I'm sorry, we're all out of\", kind)\n",
    "    for arg in arguments:\n",
    "        print(arg)\n",
    "    print(\"-\" * 40)\n",
    "    for kw in keywords:\n",
    "        print(kw, \":\", keywords[kw])"
   ]
  },
  {
   "cell_type": "code",
   "execution_count": 15,
   "id": "07adddab-8e66-43e0-b3cf-bb1a9eacc759",
   "metadata": {},
   "outputs": [
    {
     "name": "stdout",
     "output_type": "stream",
     "text": [
      "-- Do you have any Limburger ?\n",
      "-- I'm sorry, we're all out of Limburger\n",
      "It's very runny, sir.\n",
      "It's really very, VERY runny, sir.\n",
      "----------------------------------------\n",
      "shopkeeper : Michael Palin\n",
      "client : John Cleese\n",
      "sketch : Cheese Shop Sketch\n"
     ]
    }
   ],
   "source": [
    "cheeseshop(\"Limburger\", \"It's very runny, sir.\",\n",
    "           \"It's really very, VERY runny, sir.\",\n",
    "           shopkeeper=\"Michael Palin\",\n",
    "           client=\"John Cleese\",\n",
    "           sketch=\"Cheese Shop Sketch\")"
   ]
  },
  {
   "cell_type": "code",
   "execution_count": null,
   "id": "590d6dac-278d-49cd-a316-d591962be9b1",
   "metadata": {},
   "outputs": [],
   "source": [
    "## Function annotations are completely optional metadata information about the types used by user-defined functions \n",
    "def f(ham: str, eggs: str = 'eggs') -> str:\n",
    "    print(\"Annotations:\", f.__annotations__)\n",
    "    print(\"Arguments:\", ham, eggs)\n",
    "    return ham + ' and ' + eggs"
   ]
  },
  {
   "cell_type": "markdown",
   "id": "c1b878db-2773-4c66-aadf-64ad5fd41cae",
   "metadata": {},
   "source": [
    "### Pass by reference versus pass by value\n",
    "- passing arguments to functions is by reference except for primitive types."
   ]
  },
  {
   "cell_type": "code",
   "execution_count": 42,
   "id": "5d8ee3bf-c981-4345-9a69-0f4bcc5c3cdc",
   "metadata": {},
   "outputs": [],
   "source": [
    "def changeInt(x):\n",
    "    x = x + 2\n",
    "    print('In changeInt', x)\n",
    "\n",
    "def changeStr(s):\n",
    "    s = s + ' you'\n",
    "    print('In changeStr', s)\n",
    "\n",
    "def changeList(lst):\n",
    "    lst = lst + [23, 52.0]\n",
    "    print('In changeList', lst)\n",
    "\n",
    "def changeList2(lst):\n",
    "    lst.append([23, 52.0])\n",
    "    print('In changeList2', lst)\n",
    "\n",
    "def changeDict(dict):\n",
    "    dict['newone'] = 42\n",
    "    print('In changeDict', dict)"
   ]
  },
  {
   "cell_type": "code",
   "execution_count": 43,
   "id": "a42ddbaa-dc8d-40f9-89d8-d9ab0a59b72b",
   "metadata": {},
   "outputs": [],
   "source": [
    "num = 33\n",
    "s = \"hello\"\n",
    "lst = [1, 2, 3]\n",
    "dict = {'a':34, 'b':22}"
   ]
  },
  {
   "cell_type": "code",
   "execution_count": 44,
   "id": "1345cceb-2041-49a2-bf1f-1b832480dccc",
   "metadata": {},
   "outputs": [
    {
     "name": "stdout",
     "output_type": "stream",
     "text": [
      "33\n",
      "In changeInt 35\n",
      "33\n",
      "\n",
      "hello\n",
      "In changeStr hello you\n",
      "hello\n",
      "\n",
      "[1, 2, 3]\n",
      "In changeList [1, 2, 3, 23, 52.0]\n",
      "[1, 2, 3]\n",
      "\n",
      "[1, 2, 3]\n",
      "In changeList2 [1, 2, 3, [23, 52.0]]\n",
      "[1, 2, 3, [23, 52.0]]\n",
      "\n",
      "{'a': 34, 'b': 22}\n",
      "In changeDict {'a': 34, 'b': 22, 'newone': 42}\n",
      "{'a': 34, 'b': 22, 'newone': 42}\n",
      "\n"
     ]
    }
   ],
   "source": [
    "print(num)\n",
    "changeInt(num)\n",
    "print(num)\n",
    "print()\n",
    "\n",
    "print(s)\n",
    "changeStr(s)\n",
    "print(s)\n",
    "print()\n",
    "\n",
    "print(lst)\n",
    "changeList(lst)\n",
    "print(lst)\n",
    "print()\n",
    "\n",
    "print(lst)\n",
    "changeList2(lst)\n",
    "print(lst)\n",
    "print()\n",
    "\n",
    "print(dict)\n",
    "changeDict(dict)\n",
    "print(dict)\n",
    "print()"
   ]
  },
  {
   "cell_type": "markdown",
   "id": "23bc517a-c442-4b13-b099-df0de8ebe778",
   "metadata": {},
   "source": [
    "### Plotting"
   ]
  },
  {
   "cell_type": "code",
   "execution_count": 4,
   "id": "fac0b74e-b87a-4513-94d4-40051f7c6c2c",
   "metadata": {},
   "outputs": [
    {
     "data": {
      "text/plain": [
       "[<matplotlib.lines.Line2D at 0x11f0fc530>]"
      ]
     },
     "execution_count": 4,
     "metadata": {},
     "output_type": "execute_result"
    },
    {
     "data": {
      "image/png": "[encoded data removed]",
      "text/plain": [
       "<Figure size 640x480 with 1 Axes>"
      ]
     },
     "metadata": {},
     "output_type": "display_data"
    }
   ],
   "source": [
    "import matplotlib.pyplot as plt\n",
    "import numpy as np\n",
    "\n",
    "xs = np.linspace(-10,10,100)\n",
    "plt.plot(xs,np.sin(xs))"
   ]
  },
  {
   "cell_type": "markdown",
   "id": "372a802b-fb1f-4fd2-bb1b-5ba922ea7390",
   "metadata": {},
   "source": [
    "#### Random search for polynomial roots"
   ]
  },
  {
   "cell_type": "markdown",
   "id": "29b9f56f-93e3-4f1b-8d3b-8458febc5087",
   "metadata": {},
   "source": [
    "Let's say we want to find, approximately, the roots of $x^3 - 4x^2 -11x + 30$.  What are they?"
   ]
  },
  {
   "cell_type": "code",
   "execution_count": 48,
   "id": "f1c8840f-f11f-42e2-b234-855aeba43dcd",
   "metadata": {},
   "outputs": [],
   "source": [
    "def f(x):\n",
    "    return x**3 - 4 * x**2 - 11 * x + 30"
   ]
  },
  {
   "cell_type": "code",
   "execution_count": 49,
   "id": "fd48954b-c920-42e1-b15e-7ca311c2a485",
   "metadata": {},
   "outputs": [
    {
     "data": {
      "text/plain": [
       "-4.292999999999992"
      ]
     },
     "execution_count": 49,
     "metadata": {},
     "output_type": "execute_result"
    }
   ],
   "source": [
    "f(2.3)"
   ]
  },
  {
   "cell_type": "code",
   "execution_count": 50,
   "id": "b9e0e443-0968-446a-aefd-2537e5a451ef",
   "metadata": {},
   "outputs": [
    {
     "name": "stdout",
     "output_type": "stream",
     "text": [
      "-2.8990732540701885 3.9056771934519503\n",
      "-0.6520811941064579 35.194782231628096\n",
      "2.9042749634393488 -11.18926044995635\n",
      "6.475738734996931 62.58745351483893\n",
      "1.4039466338572346 9.439594112106139\n"
     ]
    }
   ],
   "source": [
    "import random\n",
    "\n",
    "for i in range(5):\n",
    "    x = random.uniform(-10, 10)\n",
    "    fx = f(x)\n",
    "    print(x, fx)"
   ]
  },
  {
   "cell_type": "markdown",
   "id": "fc400c05-68df-4f24-b523-6940043c425e",
   "metadata": {},
   "source": [
    "we need to try many more $x$ values to find some for which\n",
    "$f(x)\\approx 0$.  And we must keep track of the $x$ value for which\n",
    "$|f(x)|$ is the closest to zero"
   ]
  },
  {
   "cell_type": "code",
   "execution_count": 53,
   "id": "88327b39-7caf-4d54-9502-2ad7c1157885",
   "metadata": {},
   "outputs": [],
   "source": [
    "import random\n",
    "\n",
    "def f(x):\n",
    "    return x**3 - 4*x**2 - 11*x + 30\n",
    "\n",
    "bestSoFar = (0, f(0))\n",
    "\n",
    "for step in range(1000):\n",
    "    x = random.uniform(-10, 10)\n",
    "    fx = f(x)\n",
    "    if (abs(fx) < abs(bestSoFar[1])):\n",
    "        bestSoFar = (x, fx)"
   ]
  },
  {
   "cell_type": "code",
   "execution_count": 54,
   "id": "2dd66786-dbe9-4c02-a5dc-762847474f97",
   "metadata": {},
   "outputs": [
    {
     "data": {
      "text/plain": [
       "(2.009469752890796, -0.14186609171067488)"
      ]
     },
     "execution_count": 54,
     "metadata": {},
     "output_type": "execute_result"
    }
   ],
   "source": [
    "bestSoFar"
   ]
  },
  {
   "cell_type": "markdown",
   "id": "940bc1b1-0155-45ef-a833-8a083cb88d5e",
   "metadata": {},
   "source": [
    "Let's try more values, but first we will create a function that return the bestSoFar."
   ]
  },
  {
   "cell_type": "code",
   "execution_count": 55,
   "id": "28497614-d227-4252-989c-3d7ee293cd9f",
   "metadata": {},
   "outputs": [],
   "source": [
    "def findRoot(f, xmin, xmax, n=1000):\n",
    "    bestSoFar = (0, f(0))\n",
    "    for step in range(n):\n",
    "        x = random.uniform(xmin, xmax)\n",
    "        fx = f(x)\n",
    "        if (abs(fx) < abs(bestSoFar[1])):\n",
    "            bestSoFar = (x, fx)\n",
    "    return bestSoFar"
   ]
  },
  {
   "cell_type": "code",
   "execution_count": 57,
   "id": "1a7e8b11-5259-4499-bc8e-38261c841503",
   "metadata": {},
   "outputs": [
    {
     "data": {
      "text/plain": [
       "(1.999743507029887, 0.003847526112107147)"
      ]
     },
     "execution_count": 57,
     "metadata": {},
     "output_type": "execute_result"
    }
   ],
   "source": [
    "findRoot(f, -10, 10, 100000) # notice here we pass a function into another function as an argument"
   ]
  },
  {
   "cell_type": "markdown",
   "id": "a67130ce-a905-4d79-a722-8a94368af9bd",
   "metadata": {},
   "source": [
    "Let's trace the best bestSoFar"
   ]
  },
  {
   "cell_type": "code",
   "execution_count": 67,
   "id": "3737d5fd-7723-40db-8a70-8bda8052f70c",
   "metadata": {},
   "outputs": [],
   "source": [
    "import random\n",
    "import matplotlib.pyplot as plt\n",
    "\n",
    "def findRoot(f, xmin, xmax, maxSteps=1000):\n",
    "    bestSoFar = (0, f(0))\n",
    "    trace = [bestSoFar]\n",
    "    for step in range(maxSteps):\n",
    "        x = random.uniform(xmin, xmax)\n",
    "        fx = f(x)\n",
    "        if (abs(fx) < abs(bestSoFar[1])):\n",
    "            bestSoFar = (x,fx)\n",
    "            trace.append(bestSoFar)\n",
    "    return (bestSoFar, trace)"
   ]
  },
  {
   "cell_type": "code",
   "execution_count": 69,
   "id": "3315711b-8804-4657-a37e-6fcd252a1842",
   "metadata": {},
   "outputs": [],
   "source": [
    "result = findRoot(f, -10, 10, 10000)"
   ]
  },
  {
   "cell_type": "code",
   "execution_count": 77,
   "id": "61e6a5c0-f840-4099-ba03-98e600936e19",
   "metadata": {},
   "outputs": [
    {
     "data": {
      "text/plain": [
       "((4.999387293710827, -0.014700821671219444),\n",
       " [(0, 30),\n",
       "  (0.07603935749029489, 29.140878790396435),\n",
       "  (-3.2563678026974525, -11.125979594173693),\n",
       "  (-3.1482346476440792, -6.218298781296639),\n",
       "  (1.8158139900998105, 2.824390705229746),\n",
       "  (2.1665723506051613, -2.4384707887004),\n",
       "  (5.080843720754636, 2.0126704480378876),\n",
       "  (1.9491078274914013, 0.7684308026745441),\n",
       "  (4.980475396886108, -0.4644046063155187),\n",
       "  (4.995981557953979, -0.09626504735255992),\n",
       "  (-3.0010165694551176, -0.04067621363019214),\n",
       "  (5.000649843428935, 0.01560088783017477),\n",
       "  (4.999387293710827, -0.014700821671219444)])"
      ]
     },
     "execution_count": 77,
     "metadata": {},
     "output_type": "execute_result"
    }
   ],
   "source": [
    "result"
   ]
  },
  {
   "cell_type": "code",
   "execution_count": 78,
   "id": "7c2f509b-bb6a-4b09-be38-b29d9e1f1013",
   "metadata": {},
   "outputs": [
    {
     "name": "stdout",
     "output_type": "stream",
     "text": [
      "(0, 30)\n",
      "(0.07603935749029489, 29.140878790396435)\n",
      "(-3.2563678026974525, -11.125979594173693)\n",
      "(-3.1482346476440792, -6.218298781296639)\n",
      "(1.8158139900998105, 2.824390705229746)\n",
      "(2.1665723506051613, -2.4384707887004)\n",
      "(5.080843720754636, 2.0126704480378876)\n",
      "(1.9491078274914013, 0.7684308026745441)\n",
      "(4.980475396886108, -0.4644046063155187)\n",
      "(4.995981557953979, -0.09626504735255992)\n",
      "(-3.0010165694551176, -0.04067621363019214)\n",
      "(5.000649843428935, 0.01560088783017477)\n",
      "(4.999387293710827, -0.014700821671219444)\n"
     ]
    }
   ],
   "source": [
    "for a in result[1]:\n",
    "    print(a)"
   ]
  },
  {
   "cell_type": "code",
   "execution_count": 79,
   "id": "9b6538d6-6d5e-4a38-9154-785a70408d0a",
   "metadata": {},
   "outputs": [
    {
     "data": {
      "text/plain": [
       "[30,\n",
       " 29.140878790396435,\n",
       " -11.125979594173693,\n",
       " -6.218298781296639,\n",
       " 2.824390705229746,\n",
       " -2.4384707887004,\n",
       " 2.0126704480378876,\n",
       " 0.7684308026745441,\n",
       " -0.4644046063155187,\n",
       " -0.09626504735255992,\n",
       " -0.04067621363019214,\n",
       " 0.01560088783017477,\n",
       " -0.014700821671219444]"
      ]
     },
     "execution_count": 79,
     "metadata": {},
     "output_type": "execute_result"
    }
   ],
   "source": [
    "values = [a[1] for a in result[1]]\n",
    "values"
   ]
  },
  {
   "cell_type": "code",
   "execution_count": 80,
   "id": "bc86e005-561d-4095-b735-47eac3b044f4",
   "metadata": {},
   "outputs": [
    {
     "data": {
      "text/plain": [
       "[<matplotlib.lines.Line2D at 0x120364470>]"
      ]
     },
     "execution_count": 80,
     "metadata": {},
     "output_type": "execute_result"
    },
    {
     "data": {
      "image/png": "[encoded data removed]",
      "text/plain": [
       "<Figure size 640x480 with 1 Axes>"
      ]
     },
     "metadata": {},
     "output_type": "display_data"
    }
   ],
   "source": [
    "plt.plot(values, 'o-')\n",
    "plt.plot([0, len(values)-1], [0, 0], 'r--')"
   ]
  },
  {
   "cell_type": "code",
   "execution_count": 83,
   "id": "b1cf09c8-1dd8-430a-9ac8-a10696cf3b8b",
   "metadata": {},
   "outputs": [
    {
     "name": "stdout",
     "output_type": "stream",
     "text": [
      "Overwriting findRoot.py\n"
     ]
    }
   ],
   "source": [
    "%%writefile findRoot.py\n",
    "\n",
    "import random\n",
    "import matplotlib.pyplot as plt\n",
    "\n",
    "def findRoot(f, xmin, xmax, maxSteps=1000):\n",
    "    bestSoFar = (0, f(0))\n",
    "    trace = [bestSoFar]\n",
    "    for step in range(maxSteps):\n",
    "        x = random.uniform(xmin, xmax)\n",
    "        fx = f(x)\n",
    "        if (abs(fx) < abs(bestSoFar[1])):\n",
    "            bestSoFar = (x, fx)\n",
    "            trace.append(bestSoFar)\n",
    "    return (bestSoFar, trace)\n",
    "\n",
    "if __name__ == '__main__':\n",
    "    \n",
    "    def f(x):\n",
    "        return x**3 - 4*x**2 - 11*x + 30\n",
    "    \n",
    "    result = findRoot(f, -10, 10, 10000)\n",
    "    print(result)\n",
    "    values = [bests[1] for bests in result[1]]\n",
    "    plt.plot(values,'o-')\n",
    "    plt.plot([0, len(values)-1], [0, 0], 'r--')"
   ]
  },
  {
   "cell_type": "code",
   "execution_count": 84,
   "id": "4231e039-4ff5-4eb1-9e3d-8e57a165f188",
   "metadata": {},
   "outputs": [
    {
     "name": "stdout",
     "output_type": "stream",
     "text": [
      "((4.999524051104519, -0.011420281798507403), [(0, 30), (-2.5098570868096814, 16.600347518451194), (3.3167008138376097, -14.000344579929198), (2.4656541472044946, -6.450175087299691), (1.6616377513906002, 5.26567299240989), (-2.934012833984143, 2.5831679899279223), (2.052649894168429, -0.7840584437100162), (-2.987029580084104, 0.5166319653664999), (2.0328941185183513, -0.4912121395151843), (1.9790162136909135, 0.3156281936461838), (2.0144863745411996, -0.21687286798448113), (5.007860667361632, 0.18933619339559016), (1.9991795319780525, 0.012308366112449676), (4.999524051104519, -0.011420281798507403)])\n"
     ]
    },
    {
     "data": {
      "image/png": "[encoded data removed]",
      "text/plain": [
       "<Figure size 640x480 with 1 Axes>"
      ]
     },
     "metadata": {},
     "output_type": "display_data"
    }
   ],
   "source": [
    "import findRoot\n",
    "%run findRoot"
   ]
  },
  {
   "cell_type": "markdown",
   "id": "6779efc2-ebcc-4039-bd7c-006a1477d70f",
   "metadata": {},
   "source": [
    "### Numpy\n",
    "- Adding support for large, multi-dimensional arrays and matrices, along with a large collection of high-level mathematical functions to operate on these arrays"
   ]
  },
  {
   "cell_type": "code",
   "execution_count": 11,
   "id": "770244a3-3ee1-421f-96c5-d0caa5737ac5",
   "metadata": {},
   "outputs": [],
   "source": [
    "import numpy as np\n",
    "\n",
    "mybigarray = np.array([[3, 2, 4], [3, 3, 2], [4, 5, 2]])"
   ]
  },
  {
   "cell_type": "code",
   "execution_count": 12,
   "id": "cfa9cf77-9d1b-435b-ac30-276c02ae2669",
   "metadata": {},
   "outputs": [
    {
     "data": {
      "text/plain": [
       "array([[3, 2, 4],\n",
       "       [3, 3, 2],\n",
       "       [4, 5, 2]])"
      ]
     },
     "execution_count": 12,
     "metadata": {},
     "output_type": "execute_result"
    }
   ],
   "source": [
    "mybigarray"
   ]
  },
  {
   "cell_type": "code",
   "execution_count": 14,
   "id": "534bee46-275f-41cf-8fec-89ee6c457e20",
   "metadata": {},
   "outputs": [
    {
     "data": {
      "text/plain": [
       "array([0.26186697, 0.19120131, 0.24250724, 0.23322531])"
      ]
     },
     "execution_count": 14,
     "metadata": {},
     "output_type": "execute_result"
    }
   ],
   "source": [
    "# produces Gaussian random numbers with specifed mean and standard deviation\n",
    "\n",
    "np.random.normal(0.2,0.1,4)"
   ]
  },
  {
   "cell_type": "code",
   "execution_count": 16,
   "id": "1211f557-e08b-4453-80ef-8ffa6fabb198",
   "metadata": {},
   "outputs": [
    {
     "data": {
      "text/plain": [
       "(3, 3)"
      ]
     },
     "execution_count": 16,
     "metadata": {},
     "output_type": "execute_result"
    }
   ],
   "source": [
    "a = np.ones((3,3))\n",
    "a.shape"
   ]
  },
  {
   "cell_type": "code",
   "execution_count": 17,
   "id": "bf48e807-4958-4414-96b8-7440f8e0dc58",
   "metadata": {},
   "outputs": [
    {
     "data": {
      "text/plain": [
       "array([[1., 1., 1.],\n",
       "       [1., 1., 1.],\n",
       "       [1., 1., 1.]])"
      ]
     },
     "execution_count": 17,
     "metadata": {},
     "output_type": "execute_result"
    }
   ],
   "source": [
    "a"
   ]
  },
  {
   "cell_type": "markdown",
   "id": "ee1ad2ba-0033-4fb6-90f7-bd3d0e48a129",
   "metadata": {},
   "source": [
    "### Seed\n",
    "Many of the algorithms in machine learning are stochastic, the results are not repeatable anyway. This can be temporarily avoided by setting the random number seed. "
   ]
  },
  {
   "cell_type": "code",
   "execution_count": 8,
   "id": "02f8685f-a80d-4d4d-8a9a-ad16763dcef7",
   "metadata": {},
   "outputs": [
    {
     "data": {
      "text/plain": [
       "array([0.96702984, 0.54723225, 0.97268436, 0.71481599, 0.69772882,\n",
       "       0.2160895 , 0.97627445, 0.00623026, 0.25298236, 0.43479153])"
      ]
     },
     "execution_count": 8,
     "metadata": {},
     "output_type": "execute_result"
    }
   ],
   "source": [
    "import numpy as np\n",
    "np.random.seed(4)\n",
    "np.random.rand(10)"
   ]
  },
  {
   "cell_type": "code",
   "execution_count": 9,
   "id": "c7cca255-fc7d-45e8-ac2a-db64fc94c57e",
   "metadata": {},
   "outputs": [
    {
     "data": {
      "text/plain": [
       "array([0.77938292, 0.19768507, 0.86299324, 0.98340068, 0.16384224,\n",
       "       0.59733394, 0.0089861 , 0.38657128, 0.04416006, 0.95665297])"
      ]
     },
     "execution_count": 9,
     "metadata": {},
     "output_type": "execute_result"
    }
   ],
   "source": [
    "np.random.rand(10)"
   ]
  },
  {
   "cell_type": "code",
   "execution_count": 10,
   "id": "138a9543-46ae-4208-9e83-8a48cf36510d",
   "metadata": {},
   "outputs": [
    {
     "data": {
      "text/plain": [
       "array([0.96702984, 0.54723225, 0.97268436, 0.71481599, 0.69772882,\n",
       "       0.2160895 , 0.97627445, 0.00623026, 0.25298236, 0.43479153])"
      ]
     },
     "execution_count": 10,
     "metadata": {},
     "output_type": "execute_result"
    }
   ],
   "source": [
    "np.random.seed(4)\n",
    "np.random.rand(10)"
   ]
  },
  {
   "cell_type": "markdown",
   "id": "35cd0444-852a-42c2-a311-535ffe704515",
   "metadata": {},
   "source": [
    "## Python Classes and Inheritance"
   ]
  },
  {
   "cell_type": "code",
   "execution_count": 21,
   "id": "93395f85-bc2f-4ca8-938a-c7feca6d5afc",
   "metadata": {},
   "outputs": [],
   "source": [
    "class Person:\n",
    "    def __init__(self, fname, lname):\n",
    "        # The __init__() function is called automatically every time the class is being used to create a new object.\n",
    "        # The self parameter is a reference to the current instance of the class, \n",
    "        # and is used to access variables that belong to the class\n",
    "        self.firstname = fname \n",
    "        self.lastname = lname\n",
    "    def printname(self):\n",
    "        print(self.firstname, self.lastname)\n",
    "\n",
    "    def __str__(self):\n",
    "        return f'function controls what should be returned when the class object is represented as a string.'\n",
    "      \n",
    "class Student(Person):\n",
    "    def __init__(self, fname, lname, year):\n",
    "        super().__init__(fname, lname) # super function is used to give access to methods and properties of a parent class\n",
    "        self.graduationyear = year\n",
    "    def welcome(self):\n",
    "        print(\"Welcome\", self.firstname, self.lastname, \"to the class of\", self.graduationyear)"
   ]
  },
  {
   "cell_type": "code",
   "execution_count": 32,
   "id": "d14e9a4c-3764-432c-b77b-5102ddf27e7e",
   "metadata": {},
   "outputs": [],
   "source": [
    "myinfo = Student('myfname','mylname',2024)"
   ]
  },
  {
   "cell_type": "code",
   "execution_count": 33,
   "id": "5f62d1ec-38cd-4763-b656-976ea169dad3",
   "metadata": {},
   "outputs": [
    {
     "name": "stdout",
     "output_type": "stream",
     "text": [
      "function controls what should be returned when the class object is represented as a string.\n"
     ]
    }
   ],
   "source": [
    "print(myinfo)"
   ]
  },
  {
   "cell_type": "code",
   "execution_count": 34,
   "id": "0e57610d-5d45-4d90-b89e-478aefd66f57",
   "metadata": {},
   "outputs": [
    {
     "name": "stdout",
     "output_type": "stream",
     "text": [
      "myfname mylname\n"
     ]
    }
   ],
   "source": [
    "myinfo.printname()"
   ]
  },
  {
   "cell_type": "code",
   "execution_count": 35,
   "id": "5078171c-9826-4772-980f-666d72b921df",
   "metadata": {},
   "outputs": [
    {
     "name": "stdout",
     "output_type": "stream",
     "text": [
      "Welcome myfname mylname to the class of 2024\n"
     ]
    }
   ],
   "source": [
    "myinfo.welcome()"
   ]
  },
  {
   "cell_type": "code",
   "execution_count": null,
   "id": "dfed3d6a-9a7b-4c47-bbcd-6301395adaf0",
   "metadata": {},
   "outputs": [],
   "source": []
  }
 ],
 "metadata": {
  "kernelspec": {
   "display_name": "Python 3 (ipykernel)",
   "language": "python",
   "name": "python3"
  },
  "language_info": {
   "codemirror_mode": {
    "name": "ipython",
    "version": 3
   },
   "file_extension": ".py",
   "mimetype": "text/x-python",
   "name": "python",
   "nbconvert_exporter": "python",
   "pygments_lexer": "ipython3",
   "version": "3.12.1"
  }
 },
 "nbformat": 4,
 "nbformat_minor": 5
}
