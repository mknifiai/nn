{
 "cells": [
  {
   "cell_type": "markdown",
   "id": "d8cd7c07-8947-418a-b3d4-b41f1afbc310",
   "metadata": {},
   "source": [
    "## Advanced Neural Networks"
   ]
  },
  {
   "cell_type": "markdown",
   "id": "7ab8a82a-7cbe-4ddf-b6cc-521286b0fbc4",
   "metadata": {},
   "source": [
    "## 1. Convolutional neural networks (CNNs)\n",
    "\n",
    "use one or more convolution layers to model data with dependence or structure.\n",
    "\n",
    "__Convolution__\n",
    "\n",
    "Convolution applies a filter to small regions in the input data before passing the inputs through the hidden layer.\n",
    "\n",
    "\n",
    "__Pooling__\n",
    "\n",
    "Pooling reduces the dimension of the input space."
   ]
  },
  {
   "cell_type": "markdown",
   "id": "e820ab57-d251-49f0-8b1f-664354c1dd49",
   "metadata": {},
   "source": [
    "### Convolutional neural network diagram"
   ]
  },
  {
   "cell_type": "markdown",
   "id": "aefe8c92-304f-49d9-872d-1726d2bcee00",
   "metadata": {},
   "source": [
    "<img src=\"fig/convnet.png\" width=500 height=500 />"
   ]
  },
  {
   "cell_type": "markdown",
   "id": "42e5c20f-f337-4a18-8877-c6df4bf5c53e",
   "metadata": {},
   "source": [
    "### Convolutional networks for 2D inputs"
   ]
  },
  {
   "cell_type": "markdown",
   "id": "203f0090-b014-45dd-8510-71d9063b3b2e",
   "metadata": {},
   "source": [
    "<img src=\"fig/2dConv.png\" width=400 height=400 />"
   ]
  },
  {
   "cell_type": "markdown",
   "id": "fd7b3afc-25df-4765-a16a-46de33d2b269",
   "metadata": {},
   "source": [
    "### Advantages and disadvantages of convolutional neural networks"
   ]
  },
  {
   "cell_type": "markdown",
   "id": "e4e08ed7-485a-4044-9230-d21faa66772b",
   "metadata": {},
   "source": [
    "<img src=\"fig/adcon.png\" width=600 height=600 />"
   ]
  },
  {
   "cell_type": "markdown",
   "id": "86a753e2-28f1-48ef-b99d-3d6700b04b7a",
   "metadata": {},
   "source": [
    "## 2. Recurrent neural networks"
   ]
  },
  {
   "cell_type": "markdown",
   "id": "6b71ba75-84a3-4141-898d-be8d356a69a7",
   "metadata": {},
   "source": [
    "Recurrent neural networks (RNNs) contain one or more feedback layers or loops, which allow outputs from a hidden layer to loop back to a previous layer.\n",
    "\n",
    "__Sequential data__\n",
    "\n",
    "Sequential data is data in which the ordering contains meaning, such as written text or a time series."
   ]
  },
  {
   "cell_type": "markdown",
   "id": "9ee7ca7b-0c21-4c9b-8ac5-dc6b1fd39605",
   "metadata": {},
   "source": [
    "<img src=\"fig/rnn.png\" width=400 height=400 />"
   ]
  },
  {
   "cell_type": "markdown",
   "id": "5fc9454d-475e-4160-9afb-c268cf8755d8",
   "metadata": {},
   "source": [
    "### Advantages and disadvantages of recurrent neural networks"
   ]
  },
  {
   "cell_type": "markdown",
   "id": "d68a67d9-0311-42ab-90cb-adcfb4b06ade",
   "metadata": {},
   "source": [
    "<img src=\"fig/adrnn.png\" width=600 height=600 />"
   ]
  },
  {
   "cell_type": "markdown",
   "id": "e6c748ba-d4a9-4ea8-a7c9-07530feb2210",
   "metadata": {},
   "source": [
    "## 3. Autoencoders"
   ]
  },
  {
   "cell_type": "markdown",
   "id": "070ff1c1-e4ca-4578-969c-b849f8ef0568",
   "metadata": {},
   "source": [
    "Autoencoders are a class of neural networks that learn efficient codings or labelings for unsupervised learning tasks.\n",
    "\n",
    "__Encoding functions__\n",
    "\n",
    "Encoding functions transform the input data into a new latent space, which is typically smaller than the original inputs.\n",
    "\n",
    "__Decoding functions__\n",
    "\n",
    "Decoding functions re-create the input data from the transformed latent space."
   ]
  },
  {
   "cell_type": "markdown",
   "id": "1b33e72c-ac54-47f5-882b-564ad1a30256",
   "metadata": {},
   "source": [
    "<img src=\"fig/auto.png\" width=500 height=500 />"
   ]
  },
  {
   "cell_type": "markdown",
   "id": "ca1d445e-2657-4cb5-a1d8-37c3d5eb9c2b",
   "metadata": {},
   "source": [
    "#### Advantages and disadvantages of autoencoders"
   ]
  },
  {
   "cell_type": "markdown",
   "id": "b83a51fc-6eb0-4ac5-9dd9-dc529cd2ba2f",
   "metadata": {},
   "source": [
    "<img src=\"fig/adauto.png\" width=600 height=600 />"
   ]
  },
  {
   "cell_type": "markdown",
   "id": "05e6e333-b60b-4826-9fc3-2bd1c7231052",
   "metadata": {},
   "source": [
    "## 4. Transfomers"
   ]
  },
  {
   "cell_type": "markdown",
   "id": "4519fafd-856e-4358-87ec-49f64fc6e12c",
   "metadata": {},
   "source": [
    "Transfomers are deep learning models that use attention mechanisms to amplify or diminish the importance of specific words in a sequence.\n",
    "\n",
    "__Attention mechanisms__\n",
    "\n",
    "Attention mechanisms encode a set of soft weights for each word, which change as inputs pass through the model.\n",
    "\n",
    "__Large language models__\n",
    "\n",
    "Large language models (LLMs) are machine learning systems trained to interpret and produce human-like text."
   ]
  },
  {
   "cell_type": "markdown",
   "id": "9a58973c-d0ca-400b-bc09-006a38caf8ae",
   "metadata": {},
   "source": [
    "### Transformers diagram"
   ]
  },
  {
   "cell_type": "markdown",
   "id": "501f8d51-35f1-4565-813c-a84ca2d9b27a",
   "metadata": {},
   "source": [
    "<img src=\"fig/atten.png\" width=500 height=500 />"
   ]
  },
  {
   "cell_type": "markdown",
   "id": "fc2d3b4f-1367-4547-81ff-5de64ddd4143",
   "metadata": {},
   "source": [
    "### Advantages and disadvantages of transformers"
   ]
  },
  {
   "cell_type": "markdown",
   "id": "079893bd-6d3d-4c5a-a6a2-070d5ae0bb14",
   "metadata": {},
   "source": [
    "<img src=\"fig/adatten.png\" width=600 height=600 />"
   ]
  },
  {
   "cell_type": "markdown",
   "id": "d8b6fb44-f0dc-4ab1-a41a-e7126b817736",
   "metadata": {},
   "source": [
    "## 5. Generative adversarial networks"
   ]
  },
  {
   "cell_type": "markdown",
   "id": "9670300c-5ca5-44f0-bf40-d0ce7de5c37a",
   "metadata": {},
   "source": [
    "Generative adversarial networks (GANs) contain two neural networks that act as adversaries: One neural network generates data based on the original set of inputs, and the other neural network evaluates the generated data.\n",
    "\n",
    "__generator__\n",
    "\n",
    "The generator produces new instances that match the original data's characteristics as closely as possible.\n",
    "\n",
    "__discriminator__\n",
    "\n",
    "The discriminator classifies instances as coming from the generator or from the original data."
   ]
  },
  {
   "cell_type": "markdown",
   "id": "25221914-31e0-4d0d-831c-b648d01b4530",
   "metadata": {},
   "source": [
    "#### Generative adversarial networks diagram"
   ]
  },
  {
   "cell_type": "markdown",
   "id": "2d452cd9-7275-4e28-a7db-e0094f813a6f",
   "metadata": {},
   "source": [
    "<img src=\"fig/gans.png\" width=500 height=500 />"
   ]
  },
  {
   "cell_type": "markdown",
   "id": "dffdfe01-8221-456f-8b9b-152963825a4c",
   "metadata": {},
   "source": [
    "### Advantages and disadvantages of GANs"
   ]
  },
  {
   "cell_type": "markdown",
   "id": "86e0a92d-0ead-41ec-9118-9469c0b92285",
   "metadata": {},
   "source": [
    "<img src=\"fig/adgans.png\" width=600 height=600 />"
   ]
  }
 ],
 "metadata": {
  "kernelspec": {
   "display_name": "Python 3 (ipykernel)",
   "language": "python",
   "name": "python3"
  },
  "language_info": {
   "codemirror_mode": {
    "name": "ipython",
    "version": 3
   },
   "file_extension": ".py",
   "mimetype": "text/x-python",
   "name": "python",
   "nbconvert_exporter": "python",
   "pygments_lexer": "ipython3",
   "version": "3.12.1"
  }
 },
 "nbformat": 4,
 "nbformat_minor": 5
}
