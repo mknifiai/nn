{
 "cells": [
  {
   "cell_type": "markdown",
   "id": "b123da6f-c875-488b-ba81-f0680988abaf",
   "metadata": {},
   "source": [
    "## Radial Basis Function Network"
   ]
  },
  {
   "cell_type": "markdown",
   "id": "1b0ab5ee-6ee7-4472-be44-38842967e111",
   "metadata": {},
   "source": [
    "The Radial Basis Function network consists of input nodes connected by weights to a set of RBF neurons, which fire proportionally to the distance between the input and the neuron in weight space. The activations of these nodes are used as inputs to the second layer, which consists of linear nodes. The schematic looks very similar to the MLP except for the lack of a bias in the hidden layer."
   ]
  },
  {
   "cell_type": "markdown",
   "id": "31d1d264-cc9b-404b-94bd-e8659cc3e977",
   "metadata": {},
   "source": [
    "<img src=\"fig/rbf.png\" width=300 height=300 />"
   ]
  },
  {
   "cell_type": "markdown",
   "id": "2a00d3e0-5b8d-4e60-8f9a-5e77f80f5510",
   "metadata": {},
   "source": [
    "### The Radial Basis Function Algorithm"
   ]
  },
  {
   "cell_type": "markdown",
   "id": "4d66e025-4253-46d2-8787-0ca4215f8f55",
   "metadata": {},
   "source": [
    "Position the RBF centres by either:\n",
    "\n",
    "    – using the k-means algorithm to initialise the positions of the RBF centres OR\n",
    "    – setting the RBF centres to be randomly chosen datapoints\n",
    "\n",
    "Calculate the actions of the RBF nodes. \n",
    "\n",
    "<img src=\"fig/eqrbf.png\" width=200 height=200 />\n",
    "\n",
    "\n",
    "Train the output weights by either:\n",
    "\n",
    "    – using the Perceptron OR\n",
    "    – computing the pseudo-inverse of the activations of the RBF centres\n"
   ]
  },
  {
   "cell_type": "code",
   "execution_count": 5,
   "id": "d2317410-c151-4ccc-85aa-45e89672abdf",
   "metadata": {},
   "outputs": [],
   "source": [
    "class pcn:\n",
    "\t\"\"\" A basic Perceptron\"\"\"\n",
    "\t\n",
    "\tdef __init__(self,inputs,targets):\n",
    "\t\t\"\"\" Constructor \"\"\"\n",
    "\t\t# Set up network size\n",
    "\t\tif np.ndim(inputs)>1:\n",
    "\t\t\tself.nIn = np.shape(inputs)[1]\n",
    "\t\telse: \n",
    "\t\t\tself.nIn = 1\n",
    "\t\n",
    "\t\tif np.ndim(targets)>1:\n",
    "\t\t\tself.nOut = np.shape(targets)[1]\n",
    "\t\telse:\n",
    "\t\t\tself.nOut = 1\n",
    "\n",
    "\t\tself.nData = np.shape(inputs)[0]\n",
    "\t\n",
    "\t\t# Initialise network\n",
    "\t\tself.weights = np.random.rand(self.nIn+1,self.nOut)*0.1-0.05\n",
    "\n",
    "\tdef pcntrain(self,inputs,targets,eta,nIterations):\n",
    "\t\t\"\"\" Train the thing \"\"\"\t\n",
    "\t\t# Add the inputs that match the bias node\n",
    "\t\tinputs = np.concatenate((inputs,-np.ones((self.nData,1))),axis=1)\n",
    "\t\t# Training\n",
    "\t\tchange = range(self.nData)\n",
    "\n",
    "\t\tfor n in range(nIterations):\n",
    "\t\t\t\n",
    "\t\t\tself.activations = self.pcnfwd(inputs);\n",
    "\t\t\tself.weights -= eta*np.dot(np.transpose(inputs),self.activations-targets)\n",
    "\n",
    "\tdef pcnfwd(self,inputs):\n",
    "\t\t\"\"\" Run the network forward \"\"\"\n",
    "\t\t# Compute activations\n",
    "\t\tactivations =  np.dot(inputs,self.weights)\n",
    "\n",
    "\t\t# Threshold the activations\n",
    "\t\treturn np.where(activations>0,1,0)"
   ]
  },
  {
   "cell_type": "code",
   "execution_count": 6,
   "id": "2a3e4548-f295-42bf-90e9-4bfb29a3b11d",
   "metadata": {},
   "outputs": [],
   "source": [
    "\n",
    "# Source: https://github.com/alexsosn/MarslandMLAlgo/blob/master/Ch5/rbf.py\n",
    "\n",
    "class rbf:\n",
    "    \"\"\" The Radial Basis Function network\n",
    "    Parameters are number of RBFs, and their width, how to train the network \n",
    "    (pseudo-inverse or kmeans) and whether the RBFs are normalised\"\"\"\n",
    "\n",
    "    def __init__(self,inputs,targets,nRBF,sigma=0,usekmeans=0,normalise=0):\n",
    "        self.nin = np.shape(inputs)[1]\n",
    "        self.nout = np.shape(targets)[1]\n",
    "        self.ndata = np.shape(inputs)[0]\n",
    "        self.nRBF = nRBF\n",
    "        self.usekmeans = usekmeans\n",
    "        self.normalise = normalise\n",
    "        \n",
    "        if usekmeans:\n",
    "            self.kmeansnet = kmeans.kmeans(self.nRBF,inputs)\n",
    "            \n",
    "        self.hidden = np.zeros((self.ndata,self.nRBF+1))\n",
    "        \n",
    "        if sigma==0:\n",
    "            # Set width of Gaussians\n",
    "            d = (inputs.max(axis=0)-inputs.min(axis=0)).max()\n",
    "            self.sigma = d/np.sqrt(2*nRBF)  \n",
    "        else:\n",
    "            self.sigma = sigma\n",
    "                \n",
    "        self.perceptron = pcn(self.hidden[:,:-1],targets)\n",
    "        \n",
    "        # Initialise network\n",
    "        self.weights1 = np.zeros((self.nin,self.nRBF))\n",
    "        \n",
    "    def rbftrain(self,inputs,targets,eta=0.25,niterations=100):\n",
    "                \n",
    "        if self.usekmeans==0:\n",
    "            # Version 1: set RBFs to be datapoints\n",
    "            indices = range(self.ndata)\n",
    "            np.random.shuffle(indices)\n",
    "            for i in range(self.nRBF):\n",
    "                self.weights1[:,i] = inputs[indices[i],:]\n",
    "        else:\n",
    "            # Version 2: use k-means\n",
    "            self.weights1 = np.transpose(self.kmeansnet.kmeanstrain(inputs))\n",
    "\n",
    "        for i in range(self.nRBF):\n",
    "            self.hidden[:,i] = np.exp(-np.sum((inputs - np.ones((1,self.nin))*self.weights1[:,i])**2,axis=1)/(2*self.sigma**2))\n",
    "        if self.normalise:\n",
    "            self.hidden[:,:-1] /= np.transpose(np.ones((1,np.shape(self.hidden)[0]))*self.hidden[:,:-1].sum(axis=1))\n",
    "        \n",
    "        # Call Perceptron without bias node (since it adds its own)\n",
    "        self.perceptron.pcntrain(self.hidden[:,:-1],targets,eta,niterations)"
   ]
  },
  {
   "cell_type": "code",
   "execution_count": 3,
   "id": "510adeb7-31be-4836-ab0b-0e408f687fcd",
   "metadata": {},
   "outputs": [],
   "source": [
    "net = rbf(train,traint,5,1,1)\n",
    "\n",
    "net.rbftrain(train,traint,0.25,2000)"
   ]
  },
  {
   "cell_type": "code",
   "execution_count": null,
   "id": "beacfa56-5cf1-440f-a313-c680f7484add",
   "metadata": {},
   "outputs": [],
   "source": []
  }
 ],
 "metadata": {
  "kernelspec": {
   "display_name": "Python 3 (ipykernel)",
   "language": "python",
   "name": "python3"
  },
  "language_info": {
   "codemirror_mode": {
    "name": "ipython",
    "version": 3
   },
   "file_extension": ".py",
   "mimetype": "text/x-python",
   "name": "python",
   "nbconvert_exporter": "python",
   "pygments_lexer": "ipython3",
   "version": "3.12.1"
  }
 },
 "nbformat": 4,
 "nbformat_minor": 5
}
