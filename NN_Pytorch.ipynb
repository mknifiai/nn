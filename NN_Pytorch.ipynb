{
 "cells": [
  {
   "cell_type": "markdown",
   "id": "9e8cbdd7-cb85-47c3-bc11-7454ffcfeb6e",
   "metadata": {},
   "source": [
    "## Neural Network Regression Implementation in Pytorch"
   ]
  },
  {
   "cell_type": "code",
   "execution_count": 24,
   "id": "5804da26-2956-4feb-9c77-e03d1c105575",
   "metadata": {},
   "outputs": [],
   "source": [
    "#%pip install torch\n",
    "#%pip install -U scikit-learn"
   ]
  },
  {
   "cell_type": "code",
   "execution_count": 25,
   "id": "f1d01a2c-d3a2-4df2-8c3c-425d2f04ddfc",
   "metadata": {},
   "outputs": [],
   "source": [
    "import torch\n",
    "from torch import nn\n",
    "import sklearn as skl\n",
    "import pandas as pd\n",
    "import numpy as np\n",
    "import matplotlib.pyplot as plt"
   ]
  },
  {
   "cell_type": "code",
   "execution_count": 26,
   "id": "3e1cdd3f-a008-4a9d-8a2c-ab83395cc94d",
   "metadata": {},
   "outputs": [],
   "source": [
    "# https://archive.ics.uci.edu/\n",
    "# https://www.csie.ntu.edu.tw/~cjlin/libsvmtools/datasets/\n",
    "# https://paperswithcode.com/datasets\n",
    "\n",
    "from sklearn.datasets import fetch_california_housing\n",
    "housing = fetch_california_housing()"
   ]
  },
  {
   "cell_type": "code",
   "execution_count": 27,
   "id": "5a4d3a90-ab3d-48f7-9ad4-639741b69482",
   "metadata": {},
   "outputs": [
    {
     "data": {
      "text/plain": [
       "(20640, 8)"
      ]
     },
     "execution_count": 27,
     "metadata": {},
     "output_type": "execute_result"
    }
   ],
   "source": [
    "np.shape(housing.data)"
   ]
  },
  {
   "cell_type": "code",
   "execution_count": 28,
   "id": "803a567c-4809-4b5b-96db-602e78da1ca7",
   "metadata": {},
   "outputs": [
    {
     "data": {
      "text/plain": [
       "(20640,)"
      ]
     },
     "execution_count": 28,
     "metadata": {},
     "output_type": "execute_result"
    }
   ],
   "source": [
    "np.shape(housing.target)"
   ]
  },
  {
   "cell_type": "code",
   "execution_count": 29,
   "id": "118af6cf-72bf-4867-80bb-cb6860c6c9c8",
   "metadata": {},
   "outputs": [
    {
     "name": "stdout",
     "output_type": "stream",
     "text": [
      "['MedInc', 'HouseAge', 'AveRooms', 'AveBedrms', 'Population', 'AveOccup', 'Latitude', 'Longitude']\n"
     ]
    }
   ],
   "source": [
    "print(housing.feature_names)"
   ]
  },
  {
   "cell_type": "markdown",
   "id": "08af6faa-4f4a-4f90-a885-2eb700411480",
   "metadata": {},
   "source": [
    "## Load data"
   ]
  },
  {
   "cell_type": "code",
   "execution_count": 30,
   "id": "0ab94a0c-6ceb-4bbf-a891-937171d935e3",
   "metadata": {},
   "outputs": [],
   "source": [
    "X, y = housing.data, housing.target\n",
    "X = X.astype(np.float32)\n",
    "y = y.astype(np.float32)\n",
    "X_train, X_test, y_train, y_test = skl.model_selection.train_test_split(X, y, random_state=1)"
   ]
  },
  {
   "cell_type": "code",
   "execution_count": 31,
   "id": "a80892e8-b2ec-4cf2-919b-a24a307f82e1",
   "metadata": {},
   "outputs": [
    {
     "name": "stdout",
     "output_type": "stream",
     "text": [
      "Xtrain dim: (15480, 8)\n",
      "Xtrain dim: (15480,)\n",
      "Xtrain dim: (5160, 8)\n",
      "Xtrain dim: (5160,)\n"
     ]
    }
   ],
   "source": [
    "print(f'Xtrain dim: {X_train.shape}')\n",
    "print(f'Xtrain dim: {y_train.shape}')\n",
    "print(f'Xtrain dim: {X_test.shape}')\n",
    "print(f'Xtrain dim: {y_test.shape}')"
   ]
  },
  {
   "cell_type": "code",
   "execution_count": 32,
   "id": "ec231002-4034-4a1a-ab39-4cf0fd2d80a9",
   "metadata": {},
   "outputs": [
    {
     "data": {
      "text/plain": [
       "array([3.55 , 0.707, 2.294, ..., 0.588, 2.108, 0.875], dtype=float32)"
      ]
     },
     "execution_count": 32,
     "metadata": {},
     "output_type": "execute_result"
    }
   ],
   "source": [
    "y_test"
   ]
  },
  {
   "cell_type": "code",
   "execution_count": 33,
   "id": "046c9750-d64e-448c-8d28-ce25b2b5d5d7",
   "metadata": {},
   "outputs": [
    {
     "data": {
      "text/plain": [
       "3608"
      ]
     },
     "execution_count": 33,
     "metadata": {},
     "output_type": "execute_result"
    }
   ],
   "source": [
    "len(np.unique(y_train))"
   ]
  },
  {
   "cell_type": "markdown",
   "id": "5cc71c61-0c8b-457d-9a8f-885061122dfd",
   "metadata": {},
   "source": [
    "## Data Class"
   ]
  },
  {
   "cell_type": "markdown",
   "id": "e4c8616f-a981-4862-8309-d00049ecb107",
   "metadata": {},
   "source": [
    "We careate a PyTorch-compatible dataset to be used with Pytorch DataLoader. It has three defs: \n",
    "- $__init__$ or the constructor, where most of the work is done.\n",
    "- $__len__$ returning dataset length\n",
    "-  $__getitem__$ for retrieving an individual item using an index."
   ]
  },
  {
   "cell_type": "code",
   "execution_count": 34,
   "id": "169a5ff1-5e72-4dbc-a447-e352f966dc40",
   "metadata": {},
   "outputs": [],
   "source": [
    "import torch.utils.data as Data\n",
    "\n",
    "class HouseData(Data.Dataset):\n",
    "    def __init__(self, X, y):\n",
    "        #scaler = skl.preprocessing.StandardScaler()\n",
    "        scaler = skl.preprocessing.MinMaxScaler()\n",
    "        self.X = torch.from_numpy(scaler.fit_transform(X.astype(np.float32)))\n",
    "        self.y = torch.from_numpy(y.astype(np.float32))\n",
    "    \n",
    "    def __getitem__(self, i):\n",
    "        return self.X[i, :], self.y[i]\n",
    "\n",
    "    def __len__(self):\n",
    "        return len(self.y)"
   ]
  },
  {
   "cell_type": "code",
   "execution_count": 35,
   "id": "df1b4c08-402f-46a5-ac44-f44780407cb6",
   "metadata": {},
   "outputs": [],
   "source": [
    "sXtrain = HouseData(X_train, y_train)\n",
    "sXtest = HouseData(X_test, y_test)"
   ]
  },
  {
   "cell_type": "markdown",
   "id": "c3f3929c-2f63-4982-b9c1-f9847d31d000",
   "metadata": {},
   "source": [
    "## Neural Network Class"
   ]
  },
  {
   "cell_type": "code",
   "execution_count": 36,
   "id": "4beeea6a-3652-4df9-864a-f7d059e518c1",
   "metadata": {},
   "outputs": [],
   "source": [
    "class Model(nn.Module):\n",
    "    def __init__(self, n_features, hiddenA, hiddenB):\n",
    "        super(Model, self).__init__()\n",
    "        self.fc1 = nn.Linear(n_features, hiddenA)\n",
    "        self.fc2 = nn.Linear(hiddenA, hiddenB)\n",
    "        self.output = nn.Linear(hiddenB, 1)\n",
    "\n",
    "    def forward(self, x):\n",
    "        x = F.relu(self.fc1(x))\n",
    "        x = F.relu(self.fc2(x))\n",
    "        return self.output(x)"
   ]
  },
  {
   "cell_type": "markdown",
   "id": "680b4606-435d-4e7b-a74a-481a8af5a79d",
   "metadata": {},
   "source": [
    "#### While training a model, we typically want to pass samples in “minibatches”, reshuffle the data at every epoch to reduce model overfitting, and use Python’s multiprocessing to speed up data retrieval.\n",
    "\n",
    "#### DataLoader is an iterable that abstracts this complexity for us in an easy API."
   ]
  },
  {
   "cell_type": "code",
   "execution_count": 37,
   "id": "d752aa89-7864-4dfb-b920-64d49863b254",
   "metadata": {},
   "outputs": [],
   "source": [
    "batch_size = 16\n",
    "train_loader = Data.DataLoader(sXtrain, batch_size=batch_size, shuffle=True, num_workers= 0)\n",
    "test_loader = Data.DataLoader(sXtest, batch_size=batch_size, shuffle=True, num_workers= 0)"
   ]
  },
  {
   "cell_type": "code",
   "execution_count": 38,
   "id": "fe357abe-3c0f-407a-87ed-77b9903e12fe",
   "metadata": {},
   "outputs": [
    {
     "name": "stdout",
     "output_type": "stream",
     "text": [
      "torch.Size([16, 8])\n",
      "torch.Size([16])\n"
     ]
    }
   ],
   "source": [
    "x, y = next(iter(train_loader))\n",
    "print(x.shape)\n",
    "print(y.shape)"
   ]
  },
  {
   "cell_type": "code",
   "execution_count": 39,
   "id": "7c6d0ef9-baa5-4436-9162-488afc212371",
   "metadata": {},
   "outputs": [],
   "source": [
    "net = Model(X_train.shape[1], 100, 50)"
   ]
  },
  {
   "cell_type": "code",
   "execution_count": 40,
   "id": "af69fe04-707d-4978-b6b5-8d2a46359fe2",
   "metadata": {},
   "outputs": [],
   "source": [
    "loss_function = nn.L1Loss()\n",
    "optimizer = torch.optim.Adam(net.parameters(), lr=1e-4)"
   ]
  },
  {
   "cell_type": "markdown",
   "id": "3d81a1e9-dbc9-4ad2-aec9-6ae21b113323",
   "metadata": {},
   "source": [
    "## Training loop"
   ]
  },
  {
   "cell_type": "code",
   "execution_count": 41,
   "id": "3634f8a7-7988-446f-90fc-762e6d15f6d4",
   "metadata": {},
   "outputs": [
    {
     "name": "stdout",
     "output_type": "stream",
     "text": [
      "Epoch #1 \t Loss: 1.001\n",
      "Epoch #2 \t Loss: 0.657\n",
      "Epoch #3 \t Loss: 0.544\n",
      "Epoch #4 \t Loss: 0.529\n",
      "Epoch #5 \t Loss: 0.522\n",
      "Epoch #6 \t Loss: 0.515\n",
      "Epoch #7 \t Loss: 0.511\n",
      "Epoch #8 \t Loss: 0.508\n",
      "Epoch #9 \t Loss: 0.504\n",
      "Epoch #10 \t Loss: 0.501\n",
      "Epoch #11 \t Loss: 0.498\n",
      "Epoch #12 \t Loss: 0.496\n",
      "Epoch #13 \t Loss: 0.493\n",
      "Epoch #14 \t Loss: 0.491\n",
      "Epoch #15 \t Loss: 0.489\n",
      "Epoch #16 \t Loss: 0.487\n",
      "Epoch #17 \t Loss: 0.485\n",
      "Epoch #18 \t Loss: 0.484\n",
      "Epoch #19 \t Loss: 0.482\n",
      "Epoch #20 \t Loss: 0.480\n",
      "Epoch #21 \t Loss: 0.479\n",
      "Epoch #22 \t Loss: 0.477\n",
      "Epoch #23 \t Loss: 0.475\n",
      "Epoch #24 \t Loss: 0.475\n",
      "Epoch #25 \t Loss: 0.473\n",
      "Epoch #26 \t Loss: 0.472\n",
      "Epoch #27 \t Loss: 0.471\n",
      "Epoch #28 \t Loss: 0.469\n",
      "Epoch #29 \t Loss: 0.468\n",
      "Epoch #30 \t Loss: 0.466\n",
      "Epoch #31 \t Loss: 0.465\n",
      "Epoch #32 \t Loss: 0.464\n",
      "Epoch #33 \t Loss: 0.463\n",
      "Epoch #34 \t Loss: 0.462\n",
      "Epoch #35 \t Loss: 0.461\n",
      "Epoch #36 \t Loss: 0.460\n",
      "Epoch #37 \t Loss: 0.458\n",
      "Epoch #38 \t Loss: 0.457\n",
      "Epoch #39 \t Loss: 0.456\n",
      "Epoch #40 \t Loss: 0.455\n",
      "Epoch #41 \t Loss: 0.455\n",
      "Epoch #42 \t Loss: 0.453\n",
      "Epoch #43 \t Loss: 0.452\n",
      "Epoch #44 \t Loss: 0.451\n",
      "Epoch #45 \t Loss: 0.450\n",
      "Epoch #46 \t Loss: 0.449\n",
      "Epoch #47 \t Loss: 0.448\n",
      "Epoch #48 \t Loss: 0.447\n",
      "Epoch #49 \t Loss: 0.446\n",
      "Epoch #50 \t Loss: 0.445\n"
     ]
    }
   ],
   "source": [
    "from torch.nn import functional as F\n",
    "\n",
    "n_epochs = 50\n",
    "all_losses = []\n",
    "for epoch in range(n_epochs):\n",
    "    losses = []\n",
    "    total = 0\n",
    "    for x, y in train_loader:\n",
    "        optimizer.zero_grad()\n",
    "        y_pred = net(x)\n",
    "        loss = loss_function(y_pred, torch.unsqueeze(y,dim=1))\n",
    "\n",
    "        loss.backward()\n",
    "        \n",
    "        optimizer.step()\n",
    "        \n",
    "        #progress_bar.set_description(f'Loss: {loss.item():.3f}')\n",
    "        \n",
    "        losses.append(loss.item())\n",
    "        total += 1\n",
    "\n",
    "    epoch_loss = sum(losses) / total\n",
    "    all_losses.append(epoch_loss)\n",
    "                \n",
    "    mess = f\"Epoch #{epoch+1} \\t Loss: {all_losses[-1]:.3f}\"\n",
    "    print(mess)"
   ]
  },
  {
   "cell_type": "code",
   "execution_count": 42,
   "id": "91570d2d-64b0-4af5-8622-75e5e4838f0d",
   "metadata": {},
   "outputs": [
    {
     "data": {
      "text/plain": [
       "[<matplotlib.lines.Line2D at 0x1444de060>]"
      ]
     },
     "execution_count": 42,
     "metadata": {},
     "output_type": "execute_result"
    },
    {
     "data": {
      "image/png": "[encoded data removed]",
      "text/plain": [
       "<Figure size 640x480 with 1 Axes>"
      ]
     },
     "metadata": {},
     "output_type": "display_data"
    }
   ],
   "source": [
    "plt.plot(all_losses)"
   ]
  },
  {
   "cell_type": "markdown",
   "id": "44ab60f4-2494-4fdc-829b-1d5f8a2f5e50",
   "metadata": {},
   "source": [
    "## Testing"
   ]
  },
  {
   "cell_type": "code",
   "execution_count": 43,
   "id": "f7f3c527-b567-4bab-82d7-5fe661304dad",
   "metadata": {},
   "outputs": [],
   "source": [
    "y_pred = []\n",
    "y_true = []\n",
    "net.train(False)\n",
    "for inputs, targets in test_loader:\n",
    "    y_pred.extend(net(inputs).data.numpy())\n",
    "    y_true.extend(targets.numpy())"
   ]
  },
  {
   "cell_type": "code",
   "execution_count": 44,
   "id": "b16f8b1c-e77e-4fe3-85eb-4ded54d8bb1e",
   "metadata": {},
   "outputs": [
    {
     "name": "stdout",
     "output_type": "stream",
     "text": [
      "MAE: 1.1675465106964111\n",
      "MSE: 2.4228479862213135\n"
     ]
    }
   ],
   "source": [
    "from sklearn.metrics import mean_absolute_error\n",
    "from sklearn.metrics import mean_squared_error\n",
    "from sklearn.metrics import r2_score\n",
    "\n",
    "print(\"MAE:\", mean_absolute_error(y_test, y_pred))\n",
    "print(\"MSE:\", mean_squared_error(y_test, y_pred))"
   ]
  }
 ],
 "metadata": {
  "kernelspec": {
   "display_name": "Python 3 (ipykernel)",
   "language": "python",
   "name": "python3"
  },
  "language_info": {
   "codemirror_mode": {
    "name": "ipython",
    "version": 3
   },
   "file_extension": ".py",
   "mimetype": "text/x-python",
   "name": "python",
   "nbconvert_exporter": "python",
   "pygments_lexer": "ipython3",
   "version": "3.12.1"
  }
 },
 "nbformat": 4,
 "nbformat_minor": 5
}
